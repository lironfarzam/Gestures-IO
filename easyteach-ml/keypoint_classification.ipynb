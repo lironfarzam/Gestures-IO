{
 "cells": [
  {
   "cell_type": "code",
   "execution_count": 23,
   "metadata": {
    "pycharm": {
     "name": "#%%\n"
    }
   },
   "outputs": [],
   "source": [
    "import csv\n",
    "\n",
    "import numpy as np\n",
    "import tensorflow as tf\n",
    "from sklearn.model_selection import train_test_split\n",
    "\n",
    "RANDOM_SEED = 42"
   ]
  },
  {
   "cell_type": "markdown",
   "metadata": {
    "pycharm": {
     "name": "#%% md\n"
    }
   },
   "source": [
    "# Specify each path"
   ]
  },
  {
   "cell_type": "code",
   "execution_count": 24,
   "metadata": {
    "pycharm": {
     "name": "#%%\n"
    }
   },
   "outputs": [],
   "source": [
    "dataset = 'model/keypoint_classifier/keypoint.csv'\n",
    "model_save_path = 'model/keypoint_classifier/keypoint_classifier.hdf5'"
   ]
  },
  {
   "cell_type": "markdown",
   "metadata": {
    "pycharm": {
     "name": "#%% md\n"
    }
   },
   "source": [
    "# Number of classes"
   ]
  },
  {
   "cell_type": "code",
   "execution_count": 25,
   "metadata": {
    "pycharm": {
     "name": "#%%\n"
    }
   },
   "outputs": [],
   "source": [
    "NUM_CLASSES = 8"
   ]
  },
  {
   "cell_type": "markdown",
   "metadata": {
    "pycharm": {
     "name": "#%% md\n"
    }
   },
   "source": [
    "# Reading training data"
   ]
  },
  {
   "cell_type": "code",
   "execution_count": 26,
   "metadata": {
    "pycharm": {
     "name": "#%%\n"
    }
   },
   "outputs": [],
   "source": [
    "X_dataset = np.loadtxt(dataset, delimiter=',', dtype='float32', usecols=list(range(1, (21 * 2) + 1)))"
   ]
  },
  {
   "cell_type": "code",
   "execution_count": 27,
   "metadata": {
    "pycharm": {
     "name": "#%%\n"
    }
   },
   "outputs": [],
   "source": [
    "y_dataset = np.loadtxt(dataset, delimiter=',', dtype='int32', usecols=(0))"
   ]
  },
  {
   "cell_type": "code",
   "execution_count": 28,
   "metadata": {
    "pycharm": {
     "name": "#%%\n"
    }
   },
   "outputs": [],
   "source": [
    "X_train, X_test, y_train, y_test = train_test_split(X_dataset, y_dataset, train_size=0.75, random_state=RANDOM_SEED)"
   ]
  },
  {
   "cell_type": "markdown",
   "metadata": {
    "pycharm": {
     "name": "#%% md\n"
    }
   },
   "source": [
    "# Model building"
   ]
  },
  {
   "cell_type": "code",
   "execution_count": 29,
   "metadata": {
    "pycharm": {
     "name": "#%%\n"
    }
   },
   "outputs": [],
   "source": [
    "model = tf.keras.models.Sequential([\n",
    "    tf.keras.layers.Input((21 * 2, )),\n",
    "    tf.keras.layers.Dropout(0.2),\n",
    "    tf.keras.layers.Dense(20, activation='relu'),\n",
    "    tf.keras.layers.Dropout(0.4),\n",
    "    tf.keras.layers.Dense(10, activation='relu'),\n",
    "    tf.keras.layers.Dense(NUM_CLASSES, activation='softmax')\n",
    "])"
   ]
  },
  {
   "cell_type": "code",
   "execution_count": 30,
   "metadata": {
    "pycharm": {
     "name": "#%%\n"
    }
   },
   "outputs": [
    {
     "name": "stdout",
     "output_type": "stream",
     "text": [
      "Model: \"sequential_2\"\n",
      "_________________________________________________________________\n",
      " Layer (type)                Output Shape              Param #   \n",
      "=================================================================\n",
      " dropout_4 (Dropout)         (None, 42)                0         \n",
      "                                                                 \n",
      " dense_6 (Dense)             (None, 20)                860       \n",
      "                                                                 \n",
      " dropout_5 (Dropout)         (None, 20)                0         \n",
      "                                                                 \n",
      " dense_7 (Dense)             (None, 10)                210       \n",
      "                                                                 \n",
      " dense_8 (Dense)             (None, 8)                 88        \n",
      "                                                                 \n",
      "=================================================================\n",
      "Total params: 1,158\n",
      "Trainable params: 1,158\n",
      "Non-trainable params: 0\n",
      "_________________________________________________________________\n"
     ]
    }
   ],
   "source": [
    "model.summary()  # tf.keras.utils.plot_model(model, show_shapes=True)"
   ]
  },
  {
   "cell_type": "code",
   "execution_count": 31,
   "metadata": {
    "pycharm": {
     "name": "#%%\n"
    }
   },
   "outputs": [],
   "source": [
    "# Model checkpoint callback\n",
    "cp_callback = tf.keras.callbacks.ModelCheckpoint(\n",
    "    model_save_path, verbose=1, save_weights_only=False)\n",
    "# Early stopping callback\n",
    "es_callback = tf.keras.callbacks.EarlyStopping(patience=20, verbose=1)"
   ]
  },
  {
   "cell_type": "code",
   "execution_count": 32,
   "metadata": {
    "pycharm": {
     "name": "#%%\n"
    }
   },
   "outputs": [],
   "source": [
    "# Model compilation\n",
    "model.compile(\n",
    "    optimizer='adam',\n",
    "    loss='sparse_categorical_crossentropy',\n",
    "    metrics=['accuracy']\n",
    ")"
   ]
  },
  {
   "cell_type": "markdown",
   "metadata": {
    "pycharm": {
     "name": "#%% md\n"
    }
   },
   "source": [
    "# fit the model"
   ]
  },
  {
   "cell_type": "code",
   "execution_count": 33,
   "metadata": {
    "scrolled": true,
    "pycharm": {
     "name": "#%%\n"
    }
   },
   "outputs": [
    {
     "name": "stdout",
     "output_type": "stream",
     "text": [
      "Epoch 1/1000\n",
      "62/70 [=========================>....] - ETA: 0s - loss: 1.8776 - accuracy: 0.3707\n",
      "Epoch 1: saving model to model/keypoint_classifier\\keypoint_classifier.hdf5\n",
      "70/70 [==============================] - 1s 5ms/step - loss: 1.8572 - accuracy: 0.3804 - val_loss: 1.4576 - val_accuracy: 0.5909\n",
      "Epoch 2/1000\n",
      "59/70 [========================>.....] - ETA: 0s - loss: 1.4696 - accuracy: 0.5470\n",
      "Epoch 2: saving model to model/keypoint_classifier\\keypoint_classifier.hdf5\n",
      "70/70 [==============================] - 0s 3ms/step - loss: 1.4480 - accuracy: 0.5509 - val_loss: 1.0748 - val_accuracy: 0.6836\n",
      "Epoch 3/1000\n",
      "59/70 [========================>.....] - ETA: 0s - loss: 1.1999 - accuracy: 0.6050\n",
      "Epoch 3: saving model to model/keypoint_classifier\\keypoint_classifier.hdf5\n",
      "70/70 [==============================] - 0s 3ms/step - loss: 1.1865 - accuracy: 0.6091 - val_loss: 0.8667 - val_accuracy: 0.7329\n",
      "Epoch 4/1000\n",
      "46/70 [==================>...........] - ETA: 0s - loss: 1.0480 - accuracy: 0.6442\n",
      "Epoch 4: saving model to model/keypoint_classifier\\keypoint_classifier.hdf5\n",
      "70/70 [==============================] - 0s 3ms/step - loss: 1.0306 - accuracy: 0.6479 - val_loss: 0.7430 - val_accuracy: 0.7750\n",
      "Epoch 5/1000\n",
      "60/70 [========================>.....] - ETA: 0s - loss: 0.9487 - accuracy: 0.6673\n",
      "Epoch 5: saving model to model/keypoint_classifier\\keypoint_classifier.hdf5\n",
      "70/70 [==============================] - 0s 3ms/step - loss: 0.9448 - accuracy: 0.6681 - val_loss: 0.6681 - val_accuracy: 0.7636\n",
      "Epoch 6/1000\n",
      "66/70 [===========================>..] - ETA: 0s - loss: 0.8749 - accuracy: 0.6823\n",
      "Epoch 6: saving model to model/keypoint_classifier\\keypoint_classifier.hdf5\n",
      "70/70 [==============================] - 0s 2ms/step - loss: 0.8716 - accuracy: 0.6837 - val_loss: 0.6096 - val_accuracy: 0.8047\n",
      "Epoch 7/1000\n",
      "63/70 [==========================>...] - ETA: 0s - loss: 0.8304 - accuracy: 0.6979\n",
      "Epoch 7: saving model to model/keypoint_classifier\\keypoint_classifier.hdf5\n",
      "70/70 [==============================] - 0s 3ms/step - loss: 0.8295 - accuracy: 0.6980 - val_loss: 0.5635 - val_accuracy: 0.8263\n",
      "Epoch 8/1000\n",
      "65/70 [==========================>...] - ETA: 0s - loss: 0.7913 - accuracy: 0.7118\n",
      "Epoch 8: saving model to model/keypoint_classifier\\keypoint_classifier.hdf5\n",
      "70/70 [==============================] - 0s 2ms/step - loss: 0.7912 - accuracy: 0.7114 - val_loss: 0.5309 - val_accuracy: 0.8260\n",
      "Epoch 9/1000\n",
      "58/70 [=======================>......] - ETA: 0s - loss: 0.7564 - accuracy: 0.7167\n",
      "Epoch 9: saving model to model/keypoint_classifier\\keypoint_classifier.hdf5\n",
      "70/70 [==============================] - 0s 3ms/step - loss: 0.7572 - accuracy: 0.7181 - val_loss: 0.4963 - val_accuracy: 0.8442\n",
      "Epoch 10/1000\n",
      "63/70 [==========================>...] - ETA: 0s - loss: 0.7225 - accuracy: 0.7284\n",
      "Epoch 10: saving model to model/keypoint_classifier\\keypoint_classifier.hdf5\n",
      "70/70 [==============================] - 0s 2ms/step - loss: 0.7178 - accuracy: 0.7302 - val_loss: 0.4675 - val_accuracy: 0.8580\n",
      "Epoch 11/1000\n",
      "56/70 [=======================>......] - ETA: 0s - loss: 0.6911 - accuracy: 0.7415\n",
      "Epoch 11: saving model to model/keypoint_classifier\\keypoint_classifier.hdf5\n",
      "70/70 [==============================] - 0s 3ms/step - loss: 0.6880 - accuracy: 0.7420 - val_loss: 0.4391 - val_accuracy: 0.8597\n",
      "Epoch 12/1000\n",
      "37/70 [==============>...............] - ETA: 0s - loss: 0.6647 - accuracy: 0.7546\n",
      "Epoch 12: saving model to model/keypoint_classifier\\keypoint_classifier.hdf5\n",
      "70/70 [==============================] - 0s 2ms/step - loss: 0.6642 - accuracy: 0.7504 - val_loss: 0.4151 - val_accuracy: 0.8712\n",
      "Epoch 13/1000\n",
      "61/70 [=========================>....] - ETA: 0s - loss: 0.6432 - accuracy: 0.7581\n",
      "Epoch 13: saving model to model/keypoint_classifier\\keypoint_classifier.hdf5\n",
      "70/70 [==============================] - 0s 3ms/step - loss: 0.6506 - accuracy: 0.7550 - val_loss: 0.3895 - val_accuracy: 0.8766\n",
      "Epoch 14/1000\n",
      "63/70 [==========================>...] - ETA: 0s - loss: 0.6177 - accuracy: 0.7665\n",
      "Epoch 14: saving model to model/keypoint_classifier\\keypoint_classifier.hdf5\n",
      "70/70 [==============================] - 0s 3ms/step - loss: 0.6181 - accuracy: 0.7680 - val_loss: 0.3675 - val_accuracy: 0.8745\n",
      "Epoch 15/1000\n",
      "62/70 [=========================>....] - ETA: 0s - loss: 0.6034 - accuracy: 0.7758\n",
      "Epoch 15: saving model to model/keypoint_classifier\\keypoint_classifier.hdf5\n",
      "70/70 [==============================] - 0s 3ms/step - loss: 0.6014 - accuracy: 0.7770 - val_loss: 0.3489 - val_accuracy: 0.8779\n",
      "Epoch 16/1000\n",
      "63/70 [==========================>...] - ETA: 0s - loss: 0.5870 - accuracy: 0.7829\n",
      "Epoch 16: saving model to model/keypoint_classifier\\keypoint_classifier.hdf5\n",
      "70/70 [==============================] - 0s 3ms/step - loss: 0.5861 - accuracy: 0.7840 - val_loss: 0.3307 - val_accuracy: 0.8823\n",
      "Epoch 17/1000\n",
      "56/70 [=======================>......] - ETA: 0s - loss: 0.5653 - accuracy: 0.7990\n",
      "Epoch 17: saving model to model/keypoint_classifier\\keypoint_classifier.hdf5\n",
      "70/70 [==============================] - 0s 3ms/step - loss: 0.5667 - accuracy: 0.7989 - val_loss: 0.3132 - val_accuracy: 0.9379\n",
      "Epoch 18/1000\n",
      "63/70 [==========================>...] - ETA: 0s - loss: 0.5666 - accuracy: 0.7972\n",
      "Epoch 18: saving model to model/keypoint_classifier\\keypoint_classifier.hdf5\n",
      "70/70 [==============================] - 0s 3ms/step - loss: 0.5625 - accuracy: 0.7993 - val_loss: 0.3005 - val_accuracy: 0.9400\n",
      "Epoch 19/1000\n",
      "68/70 [============================>.] - ETA: 0s - loss: 0.5354 - accuracy: 0.8049\n",
      "Epoch 19: saving model to model/keypoint_classifier\\keypoint_classifier.hdf5\n",
      "70/70 [==============================] - 0s 3ms/step - loss: 0.5361 - accuracy: 0.8044 - val_loss: 0.2842 - val_accuracy: 0.9413\n",
      "Epoch 20/1000\n",
      "59/70 [========================>.....] - ETA: 0s - loss: 0.5330 - accuracy: 0.8061\n",
      "Epoch 20: saving model to model/keypoint_classifier\\keypoint_classifier.hdf5\n",
      "70/70 [==============================] - 0s 3ms/step - loss: 0.5333 - accuracy: 0.8067 - val_loss: 0.2746 - val_accuracy: 0.9454\n",
      "Epoch 21/1000\n",
      "65/70 [==========================>...] - ETA: 0s - loss: 0.5125 - accuracy: 0.8172\n",
      "Epoch 21: saving model to model/keypoint_classifier\\keypoint_classifier.hdf5\n",
      "70/70 [==============================] - 0s 2ms/step - loss: 0.5160 - accuracy: 0.8148 - val_loss: 0.2595 - val_accuracy: 0.9474\n",
      "Epoch 22/1000\n",
      "34/70 [=============>................] - ETA: 0s - loss: 0.4996 - accuracy: 0.8217\n",
      "Epoch 22: saving model to model/keypoint_classifier\\keypoint_classifier.hdf5\n",
      "70/70 [==============================] - 0s 2ms/step - loss: 0.5016 - accuracy: 0.8215 - val_loss: 0.2459 - val_accuracy: 0.9504\n",
      "Epoch 23/1000\n",
      "59/70 [========================>.....] - ETA: 0s - loss: 0.4850 - accuracy: 0.8297\n",
      "Epoch 23: saving model to model/keypoint_classifier\\keypoint_classifier.hdf5\n",
      "70/70 [==============================] - 0s 3ms/step - loss: 0.4837 - accuracy: 0.8294 - val_loss: 0.2365 - val_accuracy: 0.9477\n",
      "Epoch 24/1000\n",
      "51/70 [====================>.........] - ETA: 0s - loss: 0.4637 - accuracy: 0.8367\n",
      "Epoch 24: saving model to model/keypoint_classifier\\keypoint_classifier.hdf5\n",
      "70/70 [==============================] - 0s 3ms/step - loss: 0.4648 - accuracy: 0.8383 - val_loss: 0.2212 - val_accuracy: 0.9535\n",
      "Epoch 25/1000\n",
      "66/70 [===========================>..] - ETA: 0s - loss: 0.4574 - accuracy: 0.8423\n",
      "Epoch 25: saving model to model/keypoint_classifier\\keypoint_classifier.hdf5\n",
      "70/70 [==============================] - 0s 3ms/step - loss: 0.4563 - accuracy: 0.8417 - val_loss: 0.2117 - val_accuracy: 0.9531\n",
      "Epoch 26/1000\n",
      "27/70 [==========>...................] - ETA: 0s - loss: 0.4518 - accuracy: 0.8319\n",
      "Epoch 26: saving model to model/keypoint_classifier\\keypoint_classifier.hdf5\n",
      "70/70 [==============================] - 0s 2ms/step - loss: 0.4458 - accuracy: 0.8429 - val_loss: 0.2016 - val_accuracy: 0.9518\n",
      "Epoch 27/1000\n",
      "63/70 [==========================>...] - ETA: 0s - loss: 0.4313 - accuracy: 0.8485\n",
      "Epoch 27: saving model to model/keypoint_classifier\\keypoint_classifier.hdf5\n",
      "70/70 [==============================] - 0s 3ms/step - loss: 0.4271 - accuracy: 0.8500 - val_loss: 0.1953 - val_accuracy: 0.9555\n",
      "Epoch 28/1000\n",
      "66/70 [===========================>..] - ETA: 0s - loss: 0.4326 - accuracy: 0.8539\n",
      "Epoch 28: saving model to model/keypoint_classifier\\keypoint_classifier.hdf5\n",
      "70/70 [==============================] - 0s 3ms/step - loss: 0.4337 - accuracy: 0.8530 - val_loss: 0.1872 - val_accuracy: 0.9575\n",
      "Epoch 29/1000\n",
      "63/70 [==========================>...] - ETA: 0s - loss: 0.4235 - accuracy: 0.8531\n",
      "Epoch 29: saving model to model/keypoint_classifier\\keypoint_classifier.hdf5\n",
      "70/70 [==============================] - 0s 3ms/step - loss: 0.4244 - accuracy: 0.8525 - val_loss: 0.1821 - val_accuracy: 0.9582\n",
      "Epoch 30/1000\n",
      "56/70 [=======================>......] - ETA: 0s - loss: 0.4248 - accuracy: 0.8564\n",
      "Epoch 30: saving model to model/keypoint_classifier\\keypoint_classifier.hdf5\n",
      "70/70 [==============================] - 0s 3ms/step - loss: 0.4215 - accuracy: 0.8568 - val_loss: 0.1731 - val_accuracy: 0.9602\n",
      "Epoch 31/1000\n",
      "56/70 [=======================>......] - ETA: 0s - loss: 0.4041 - accuracy: 0.8564\n",
      "Epoch 31: saving model to model/keypoint_classifier\\keypoint_classifier.hdf5\n",
      "70/70 [==============================] - 0s 3ms/step - loss: 0.4083 - accuracy: 0.8550 - val_loss: 0.1669 - val_accuracy: 0.9642\n",
      "Epoch 32/1000\n",
      "63/70 [==========================>...] - ETA: 0s - loss: 0.4084 - accuracy: 0.8575\n",
      "Epoch 32: saving model to model/keypoint_classifier\\keypoint_classifier.hdf5\n",
      "70/70 [==============================] - 0s 3ms/step - loss: 0.4065 - accuracy: 0.8583 - val_loss: 0.1646 - val_accuracy: 0.9619\n",
      "Epoch 33/1000\n",
      "64/70 [==========================>...] - ETA: 0s - loss: 0.3971 - accuracy: 0.8634\n",
      "Epoch 33: saving model to model/keypoint_classifier\\keypoint_classifier.hdf5\n",
      "70/70 [==============================] - 0s 2ms/step - loss: 0.3957 - accuracy: 0.8636 - val_loss: 0.1588 - val_accuracy: 0.9626\n",
      "Epoch 34/1000\n",
      "62/70 [=========================>....] - ETA: 0s - loss: 0.3990 - accuracy: 0.8610\n",
      "Epoch 34: saving model to model/keypoint_classifier\\keypoint_classifier.hdf5\n",
      "70/70 [==============================] - 0s 3ms/step - loss: 0.3977 - accuracy: 0.8611 - val_loss: 0.1502 - val_accuracy: 0.9656\n",
      "Epoch 35/1000\n",
      "58/70 [=======================>......] - ETA: 0s - loss: 0.3783 - accuracy: 0.8723\n",
      "Epoch 35: saving model to model/keypoint_classifier\\keypoint_classifier.hdf5\n",
      "70/70 [==============================] - 0s 3ms/step - loss: 0.3757 - accuracy: 0.8718 - val_loss: 0.1473 - val_accuracy: 0.9656\n",
      "Epoch 36/1000\n",
      "60/70 [========================>.....] - ETA: 0s - loss: 0.3786 - accuracy: 0.8697\n",
      "Epoch 36: saving model to model/keypoint_classifier\\keypoint_classifier.hdf5\n",
      "70/70 [==============================] - 0s 3ms/step - loss: 0.3792 - accuracy: 0.8687 - val_loss: 0.1432 - val_accuracy: 0.9669\n",
      "Epoch 37/1000\n",
      "67/70 [===========================>..] - ETA: 0s - loss: 0.3628 - accuracy: 0.8741\n",
      "Epoch 37: saving model to model/keypoint_classifier\\keypoint_classifier.hdf5\n",
      "70/70 [==============================] - 0s 3ms/step - loss: 0.3633 - accuracy: 0.8740 - val_loss: 0.1369 - val_accuracy: 0.9703\n",
      "Epoch 38/1000\n",
      "55/70 [======================>.......] - ETA: 0s - loss: 0.3824 - accuracy: 0.8712\n",
      "Epoch 38: saving model to model/keypoint_classifier\\keypoint_classifier.hdf5\n",
      "70/70 [==============================] - 0s 3ms/step - loss: 0.3807 - accuracy: 0.8713 - val_loss: 0.1362 - val_accuracy: 0.9683\n",
      "Epoch 39/1000\n",
      "59/70 [========================>.....] - ETA: 0s - loss: 0.3618 - accuracy: 0.8775\n",
      "Epoch 39: saving model to model/keypoint_classifier\\keypoint_classifier.hdf5\n",
      "70/70 [==============================] - 0s 3ms/step - loss: 0.3594 - accuracy: 0.8790 - val_loss: 0.1303 - val_accuracy: 0.9693\n",
      "Epoch 40/1000\n",
      "62/70 [=========================>....] - ETA: 0s - loss: 0.3638 - accuracy: 0.8739\n",
      "Epoch 40: saving model to model/keypoint_classifier\\keypoint_classifier.hdf5\n",
      "70/70 [==============================] - 0s 3ms/step - loss: 0.3603 - accuracy: 0.8746 - val_loss: 0.1297 - val_accuracy: 0.9680\n",
      "Epoch 41/1000\n",
      "59/70 [========================>.....] - ETA: 0s - loss: 0.3598 - accuracy: 0.8773\n",
      "Epoch 41: saving model to model/keypoint_classifier\\keypoint_classifier.hdf5\n",
      "70/70 [==============================] - 0s 3ms/step - loss: 0.3602 - accuracy: 0.8763 - val_loss: 0.1255 - val_accuracy: 0.9710\n",
      "Epoch 42/1000\n",
      "64/70 [==========================>...] - ETA: 0s - loss: 0.3428 - accuracy: 0.8833\n",
      "Epoch 42: saving model to model/keypoint_classifier\\keypoint_classifier.hdf5\n",
      "70/70 [==============================] - 0s 3ms/step - loss: 0.3427 - accuracy: 0.8826 - val_loss: 0.1194 - val_accuracy: 0.9754\n",
      "Epoch 43/1000\n",
      "62/70 [=========================>....] - ETA: 0s - loss: 0.3402 - accuracy: 0.8819\n",
      "Epoch 43: saving model to model/keypoint_classifier\\keypoint_classifier.hdf5\n",
      "70/70 [==============================] - 0s 3ms/step - loss: 0.3409 - accuracy: 0.8815 - val_loss: 0.1187 - val_accuracy: 0.9764\n",
      "Epoch 44/1000\n",
      "63/70 [==========================>...] - ETA: 0s - loss: 0.3356 - accuracy: 0.8834\n",
      "Epoch 44: saving model to model/keypoint_classifier\\keypoint_classifier.hdf5\n",
      "70/70 [==============================] - 0s 3ms/step - loss: 0.3365 - accuracy: 0.8828 - val_loss: 0.1166 - val_accuracy: 0.9734\n",
      "Epoch 45/1000\n",
      "66/70 [===========================>..] - ETA: 0s - loss: 0.3343 - accuracy: 0.8865\n",
      "Epoch 45: saving model to model/keypoint_classifier\\keypoint_classifier.hdf5\n",
      "70/70 [==============================] - 0s 3ms/step - loss: 0.3334 - accuracy: 0.8864 - val_loss: 0.1140 - val_accuracy: 0.9734\n",
      "Epoch 46/1000\n",
      "54/70 [======================>.......] - ETA: 0s - loss: 0.3379 - accuracy: 0.8847\n",
      "Epoch 46: saving model to model/keypoint_classifier\\keypoint_classifier.hdf5\n",
      "70/70 [==============================] - 0s 3ms/step - loss: 0.3350 - accuracy: 0.8849 - val_loss: 0.1132 - val_accuracy: 0.9754\n",
      "Epoch 47/1000\n",
      "49/70 [====================>.........] - ETA: 0s - loss: 0.3167 - accuracy: 0.8897\n",
      "Epoch 47: saving model to model/keypoint_classifier\\keypoint_classifier.hdf5\n",
      "70/70 [==============================] - 0s 3ms/step - loss: 0.3186 - accuracy: 0.8888 - val_loss: 0.1104 - val_accuracy: 0.9744\n",
      "Epoch 48/1000\n",
      "61/70 [=========================>....] - ETA: 0s - loss: 0.3133 - accuracy: 0.8920\n",
      "Epoch 48: saving model to model/keypoint_classifier\\keypoint_classifier.hdf5\n",
      "70/70 [==============================] - 0s 3ms/step - loss: 0.3129 - accuracy: 0.8922 - val_loss: 0.1098 - val_accuracy: 0.9761\n",
      "Epoch 49/1000\n",
      "57/70 [=======================>......] - ETA: 0s - loss: 0.3217 - accuracy: 0.8919\n",
      "Epoch 49: saving model to model/keypoint_classifier\\keypoint_classifier.hdf5\n",
      "70/70 [==============================] - 0s 3ms/step - loss: 0.3180 - accuracy: 0.8935 - val_loss: 0.1096 - val_accuracy: 0.9737\n",
      "Epoch 50/1000\n",
      "65/70 [==========================>...] - ETA: 0s - loss: 0.3175 - accuracy: 0.8873\n",
      "Epoch 50: saving model to model/keypoint_classifier\\keypoint_classifier.hdf5\n",
      "70/70 [==============================] - 0s 3ms/step - loss: 0.3166 - accuracy: 0.8875 - val_loss: 0.1045 - val_accuracy: 0.9730\n",
      "Epoch 51/1000\n",
      "54/70 [======================>.......] - ETA: 0s - loss: 0.3329 - accuracy: 0.8837\n",
      "Epoch 51: saving model to model/keypoint_classifier\\keypoint_classifier.hdf5\n",
      "70/70 [==============================] - 0s 3ms/step - loss: 0.3243 - accuracy: 0.8884 - val_loss: 0.1018 - val_accuracy: 0.9784\n",
      "Epoch 52/1000\n",
      "59/70 [========================>.....] - ETA: 0s - loss: 0.3104 - accuracy: 0.8957\n",
      "Epoch 52: saving model to model/keypoint_classifier\\keypoint_classifier.hdf5\n",
      "70/70 [==============================] - 0s 3ms/step - loss: 0.3151 - accuracy: 0.8937 - val_loss: 0.0996 - val_accuracy: 0.9781\n",
      "Epoch 53/1000\n",
      "65/70 [==========================>...] - ETA: 0s - loss: 0.3044 - accuracy: 0.9001\n",
      "Epoch 53: saving model to model/keypoint_classifier\\keypoint_classifier.hdf5\n",
      "70/70 [==============================] - 0s 3ms/step - loss: 0.3044 - accuracy: 0.9004 - val_loss: 0.0982 - val_accuracy: 0.9774\n",
      "Epoch 54/1000\n",
      "61/70 [=========================>....] - ETA: 0s - loss: 0.3015 - accuracy: 0.8987\n",
      "Epoch 54: saving model to model/keypoint_classifier\\keypoint_classifier.hdf5\n",
      "70/70 [==============================] - 0s 3ms/step - loss: 0.3023 - accuracy: 0.8990 - val_loss: 0.0979 - val_accuracy: 0.9774\n",
      "Epoch 55/1000\n",
      "54/70 [======================>.......] - ETA: 0s - loss: 0.2982 - accuracy: 0.8966\n",
      "Epoch 55: saving model to model/keypoint_classifier\\keypoint_classifier.hdf5\n",
      "70/70 [==============================] - 0s 3ms/step - loss: 0.3024 - accuracy: 0.8959 - val_loss: 0.0978 - val_accuracy: 0.9791\n",
      "Epoch 56/1000\n",
      "54/70 [======================>.......] - ETA: 0s - loss: 0.3079 - accuracy: 0.8922\n",
      "Epoch 56: saving model to model/keypoint_classifier\\keypoint_classifier.hdf5\n",
      "70/70 [==============================] - 0s 3ms/step - loss: 0.3085 - accuracy: 0.8933 - val_loss: 0.0958 - val_accuracy: 0.9794\n",
      "Epoch 57/1000\n",
      "70/70 [==============================] - ETA: 0s - loss: 0.2968 - accuracy: 0.9005\n",
      "Epoch 57: saving model to model/keypoint_classifier\\keypoint_classifier.hdf5\n",
      "70/70 [==============================] - 0s 3ms/step - loss: 0.2968 - accuracy: 0.9005 - val_loss: 0.0967 - val_accuracy: 0.9761\n",
      "Epoch 58/1000\n",
      "60/70 [========================>.....] - ETA: 0s - loss: 0.2883 - accuracy: 0.9021\n",
      "Epoch 58: saving model to model/keypoint_classifier\\keypoint_classifier.hdf5\n",
      "70/70 [==============================] - 0s 3ms/step - loss: 0.2920 - accuracy: 0.9011 - val_loss: 0.0935 - val_accuracy: 0.9808\n",
      "Epoch 59/1000\n",
      "52/70 [=====================>........] - ETA: 0s - loss: 0.2992 - accuracy: 0.9022\n",
      "Epoch 59: saving model to model/keypoint_classifier\\keypoint_classifier.hdf5\n",
      "70/70 [==============================] - 0s 3ms/step - loss: 0.3008 - accuracy: 0.8994 - val_loss: 0.0922 - val_accuracy: 0.9784\n",
      "Epoch 60/1000\n",
      "67/70 [===========================>..] - ETA: 0s - loss: 0.2883 - accuracy: 0.9024\n",
      "Epoch 60: saving model to model/keypoint_classifier\\keypoint_classifier.hdf5\n",
      "70/70 [==============================] - 0s 3ms/step - loss: 0.2884 - accuracy: 0.9024 - val_loss: 0.0929 - val_accuracy: 0.9791\n",
      "Epoch 61/1000\n",
      "63/70 [==========================>...] - ETA: 0s - loss: 0.2890 - accuracy: 0.9029\n",
      "Epoch 61: saving model to model/keypoint_classifier\\keypoint_classifier.hdf5\n",
      "70/70 [==============================] - 0s 3ms/step - loss: 0.2875 - accuracy: 0.9034 - val_loss: 0.0916 - val_accuracy: 0.9784\n",
      "Epoch 62/1000\n",
      "63/70 [==========================>...] - ETA: 0s - loss: 0.2910 - accuracy: 0.9028\n",
      "Epoch 62: saving model to model/keypoint_classifier\\keypoint_classifier.hdf5\n",
      "70/70 [==============================] - 0s 3ms/step - loss: 0.2888 - accuracy: 0.9034 - val_loss: 0.0912 - val_accuracy: 0.9804\n",
      "Epoch 63/1000\n",
      "62/70 [=========================>....] - ETA: 0s - loss: 0.2867 - accuracy: 0.9059\n",
      "Epoch 63: saving model to model/keypoint_classifier\\keypoint_classifier.hdf5\n",
      "70/70 [==============================] - 0s 3ms/step - loss: 0.2864 - accuracy: 0.9051 - val_loss: 0.0876 - val_accuracy: 0.9815\n",
      "Epoch 64/1000\n",
      "61/70 [=========================>....] - ETA: 0s - loss: 0.2821 - accuracy: 0.9059\n",
      "Epoch 64: saving model to model/keypoint_classifier\\keypoint_classifier.hdf5\n",
      "70/70 [==============================] - 0s 3ms/step - loss: 0.2813 - accuracy: 0.9056 - val_loss: 0.0858 - val_accuracy: 0.9815\n",
      "Epoch 65/1000\n",
      "57/70 [=======================>......] - ETA: 0s - loss: 0.2840 - accuracy: 0.9039\n",
      "Epoch 65: saving model to model/keypoint_classifier\\keypoint_classifier.hdf5\n",
      "70/70 [==============================] - 0s 3ms/step - loss: 0.2825 - accuracy: 0.9044 - val_loss: 0.0884 - val_accuracy: 0.9804\n",
      "Epoch 66/1000\n",
      "59/70 [========================>.....] - ETA: 0s - loss: 0.2964 - accuracy: 0.8967\n",
      "Epoch 66: saving model to model/keypoint_classifier\\keypoint_classifier.hdf5\n",
      "70/70 [==============================] - 0s 3ms/step - loss: 0.2903 - accuracy: 0.9000 - val_loss: 0.0938 - val_accuracy: 0.9757\n",
      "Epoch 67/1000\n",
      "61/70 [=========================>....] - ETA: 0s - loss: 0.2732 - accuracy: 0.9080\n",
      "Epoch 67: saving model to model/keypoint_classifier\\keypoint_classifier.hdf5\n",
      "70/70 [==============================] - 0s 3ms/step - loss: 0.2781 - accuracy: 0.9075 - val_loss: 0.0888 - val_accuracy: 0.9811\n",
      "Epoch 68/1000\n",
      "68/70 [============================>.] - ETA: 0s - loss: 0.2730 - accuracy: 0.9080\n",
      "Epoch 68: saving model to model/keypoint_classifier\\keypoint_classifier.hdf5\n",
      "70/70 [==============================] - 0s 3ms/step - loss: 0.2724 - accuracy: 0.9083 - val_loss: 0.0859 - val_accuracy: 0.9815\n",
      "Epoch 69/1000\n",
      "66/70 [===========================>..] - ETA: 0s - loss: 0.2795 - accuracy: 0.9073\n",
      "Epoch 69: saving model to model/keypoint_classifier\\keypoint_classifier.hdf5\n",
      "70/70 [==============================] - 0s 3ms/step - loss: 0.2787 - accuracy: 0.9068 - val_loss: 0.0876 - val_accuracy: 0.9825\n",
      "Epoch 70/1000\n",
      "61/70 [=========================>....] - ETA: 0s - loss: 0.2747 - accuracy: 0.9059\n",
      "Epoch 70: saving model to model/keypoint_classifier\\keypoint_classifier.hdf5\n",
      "70/70 [==============================] - 0s 3ms/step - loss: 0.2746 - accuracy: 0.9053 - val_loss: 0.0850 - val_accuracy: 0.9831\n",
      "Epoch 71/1000\n",
      "69/70 [============================>.] - ETA: 0s - loss: 0.2655 - accuracy: 0.9095\n",
      "Epoch 71: saving model to model/keypoint_classifier\\keypoint_classifier.hdf5\n",
      "70/70 [==============================] - 0s 3ms/step - loss: 0.2654 - accuracy: 0.9096 - val_loss: 0.0829 - val_accuracy: 0.9815\n",
      "Epoch 72/1000\n",
      "62/70 [=========================>....] - ETA: 0s - loss: 0.2764 - accuracy: 0.9056\n",
      "Epoch 72: saving model to model/keypoint_classifier\\keypoint_classifier.hdf5\n",
      "70/70 [==============================] - 0s 3ms/step - loss: 0.2720 - accuracy: 0.9068 - val_loss: 0.0839 - val_accuracy: 0.9818\n",
      "Epoch 73/1000\n",
      "58/70 [=======================>......] - ETA: 0s - loss: 0.2762 - accuracy: 0.9095\n",
      "Epoch 73: saving model to model/keypoint_classifier\\keypoint_classifier.hdf5\n",
      "70/70 [==============================] - 0s 3ms/step - loss: 0.2699 - accuracy: 0.9107 - val_loss: 0.0810 - val_accuracy: 0.9828\n",
      "Epoch 74/1000\n",
      "55/70 [======================>.......] - ETA: 0s - loss: 0.2720 - accuracy: 0.9095\n",
      "Epoch 74: saving model to model/keypoint_classifier\\keypoint_classifier.hdf5\n",
      "70/70 [==============================] - 0s 3ms/step - loss: 0.2689 - accuracy: 0.9108 - val_loss: 0.0820 - val_accuracy: 0.9831\n",
      "Epoch 75/1000\n",
      "60/70 [========================>.....] - ETA: 0s - loss: 0.2656 - accuracy: 0.9102\n",
      "Epoch 75: saving model to model/keypoint_classifier\\keypoint_classifier.hdf5\n",
      "70/70 [==============================] - 0s 3ms/step - loss: 0.2634 - accuracy: 0.9114 - val_loss: 0.0795 - val_accuracy: 0.9838\n",
      "Epoch 76/1000\n",
      "68/70 [============================>.] - ETA: 0s - loss: 0.2534 - accuracy: 0.9116\n",
      "Epoch 76: saving model to model/keypoint_classifier\\keypoint_classifier.hdf5\n",
      "70/70 [==============================] - 0s 2ms/step - loss: 0.2550 - accuracy: 0.9115 - val_loss: 0.0786 - val_accuracy: 0.9828\n",
      "Epoch 77/1000\n",
      "56/70 [=======================>......] - ETA: 0s - loss: 0.2588 - accuracy: 0.9102\n",
      "Epoch 77: saving model to model/keypoint_classifier\\keypoint_classifier.hdf5\n",
      "70/70 [==============================] - 0s 3ms/step - loss: 0.2601 - accuracy: 0.9113 - val_loss: 0.0784 - val_accuracy: 0.9858\n",
      "Epoch 78/1000\n",
      "55/70 [======================>.......] - ETA: 0s - loss: 0.2701 - accuracy: 0.9099\n",
      "Epoch 78: saving model to model/keypoint_classifier\\keypoint_classifier.hdf5\n",
      "70/70 [==============================] - 0s 3ms/step - loss: 0.2660 - accuracy: 0.9115 - val_loss: 0.0778 - val_accuracy: 0.9831\n",
      "Epoch 79/1000\n",
      "64/70 [==========================>...] - ETA: 0s - loss: 0.2627 - accuracy: 0.9104\n",
      "Epoch 79: saving model to model/keypoint_classifier\\keypoint_classifier.hdf5\n",
      "70/70 [==============================] - 0s 3ms/step - loss: 0.2622 - accuracy: 0.9111 - val_loss: 0.0764 - val_accuracy: 0.9835\n",
      "Epoch 80/1000\n",
      "62/70 [=========================>....] - ETA: 0s - loss: 0.2644 - accuracy: 0.9088\n",
      "Epoch 80: saving model to model/keypoint_classifier\\keypoint_classifier.hdf5\n",
      "70/70 [==============================] - 0s 3ms/step - loss: 0.2626 - accuracy: 0.9089 - val_loss: 0.0761 - val_accuracy: 0.9838\n",
      "Epoch 81/1000\n",
      "62/70 [=========================>....] - ETA: 0s - loss: 0.2606 - accuracy: 0.9127\n",
      "Epoch 81: saving model to model/keypoint_classifier\\keypoint_classifier.hdf5\n",
      "70/70 [==============================] - 0s 3ms/step - loss: 0.2611 - accuracy: 0.9130 - val_loss: 0.0776 - val_accuracy: 0.9838\n",
      "Epoch 82/1000\n",
      "56/70 [=======================>......] - ETA: 0s - loss: 0.2624 - accuracy: 0.9106\n",
      "Epoch 82: saving model to model/keypoint_classifier\\keypoint_classifier.hdf5\n",
      "70/70 [==============================] - 0s 3ms/step - loss: 0.2620 - accuracy: 0.9110 - val_loss: 0.0783 - val_accuracy: 0.9838\n",
      "Epoch 83/1000\n",
      "61/70 [=========================>....] - ETA: 0s - loss: 0.2572 - accuracy: 0.9101\n",
      "Epoch 83: saving model to model/keypoint_classifier\\keypoint_classifier.hdf5\n",
      "70/70 [==============================] - 0s 3ms/step - loss: 0.2590 - accuracy: 0.9099 - val_loss: 0.0757 - val_accuracy: 0.9831\n",
      "Epoch 84/1000\n",
      "32/70 [============>.................] - ETA: 0s - loss: 0.2581 - accuracy: 0.9109\n",
      "Epoch 84: saving model to model/keypoint_classifier\\keypoint_classifier.hdf5\n",
      "70/70 [==============================] - 0s 3ms/step - loss: 0.2476 - accuracy: 0.9148 - val_loss: 0.0772 - val_accuracy: 0.9838\n",
      "Epoch 85/1000\n",
      "69/70 [============================>.] - ETA: 0s - loss: 0.2663 - accuracy: 0.9094\n",
      "Epoch 85: saving model to model/keypoint_classifier\\keypoint_classifier.hdf5\n",
      "70/70 [==============================] - 0s 3ms/step - loss: 0.2670 - accuracy: 0.9095 - val_loss: 0.0754 - val_accuracy: 0.9845\n",
      "Epoch 86/1000\n",
      "58/70 [=======================>......] - ETA: 0s - loss: 0.2620 - accuracy: 0.9089\n",
      "Epoch 86: saving model to model/keypoint_classifier\\keypoint_classifier.hdf5\n",
      "70/70 [==============================] - 0s 2ms/step - loss: 0.2608 - accuracy: 0.9092 - val_loss: 0.0763 - val_accuracy: 0.9841\n",
      "Epoch 87/1000\n",
      "36/70 [==============>...............] - ETA: 0s - loss: 0.2468 - accuracy: 0.9182\n",
      "Epoch 87: saving model to model/keypoint_classifier\\keypoint_classifier.hdf5\n",
      "70/70 [==============================] - 0s 2ms/step - loss: 0.2490 - accuracy: 0.9163 - val_loss: 0.0789 - val_accuracy: 0.9831\n",
      "Epoch 88/1000\n",
      "57/70 [=======================>......] - ETA: 0s - loss: 0.2551 - accuracy: 0.9128\n",
      "Epoch 88: saving model to model/keypoint_classifier\\keypoint_classifier.hdf5\n",
      "70/70 [==============================] - 0s 3ms/step - loss: 0.2503 - accuracy: 0.9134 - val_loss: 0.0753 - val_accuracy: 0.9845\n",
      "Epoch 89/1000\n",
      "57/70 [=======================>......] - ETA: 0s - loss: 0.2480 - accuracy: 0.9171\n",
      "Epoch 89: saving model to model/keypoint_classifier\\keypoint_classifier.hdf5\n",
      "70/70 [==============================] - 0s 3ms/step - loss: 0.2497 - accuracy: 0.9169 - val_loss: 0.0749 - val_accuracy: 0.9852\n",
      "Epoch 90/1000\n",
      "60/70 [========================>.....] - ETA: 0s - loss: 0.2531 - accuracy: 0.9158\n",
      "Epoch 90: saving model to model/keypoint_classifier\\keypoint_classifier.hdf5\n",
      "70/70 [==============================] - 0s 2ms/step - loss: 0.2544 - accuracy: 0.9166 - val_loss: 0.0771 - val_accuracy: 0.9841\n",
      "Epoch 91/1000\n",
      "69/70 [============================>.] - ETA: 0s - loss: 0.2550 - accuracy: 0.9112\n",
      "Epoch 91: saving model to model/keypoint_classifier\\keypoint_classifier.hdf5\n",
      "70/70 [==============================] - 0s 3ms/step - loss: 0.2544 - accuracy: 0.9115 - val_loss: 0.0746 - val_accuracy: 0.9862\n",
      "Epoch 92/1000\n",
      "62/70 [=========================>....] - ETA: 0s - loss: 0.2500 - accuracy: 0.9173\n",
      "Epoch 92: saving model to model/keypoint_classifier\\keypoint_classifier.hdf5\n",
      "70/70 [==============================] - 0s 3ms/step - loss: 0.2534 - accuracy: 0.9154 - val_loss: 0.0742 - val_accuracy: 0.9855\n",
      "Epoch 93/1000\n",
      "65/70 [==========================>...] - ETA: 0s - loss: 0.2501 - accuracy: 0.9141\n",
      "Epoch 93: saving model to model/keypoint_classifier\\keypoint_classifier.hdf5\n",
      "70/70 [==============================] - 0s 2ms/step - loss: 0.2500 - accuracy: 0.9142 - val_loss: 0.0728 - val_accuracy: 0.9845\n",
      "Epoch 94/1000\n",
      "59/70 [========================>.....] - ETA: 0s - loss: 0.2498 - accuracy: 0.9150\n",
      "Epoch 94: saving model to model/keypoint_classifier\\keypoint_classifier.hdf5\n",
      "70/70 [==============================] - 0s 3ms/step - loss: 0.2507 - accuracy: 0.9141 - val_loss: 0.0692 - val_accuracy: 0.9852\n",
      "Epoch 95/1000\n",
      "53/70 [=====================>........] - ETA: 0s - loss: 0.2387 - accuracy: 0.9185\n",
      "Epoch 95: saving model to model/keypoint_classifier\\keypoint_classifier.hdf5\n",
      "70/70 [==============================] - 0s 3ms/step - loss: 0.2427 - accuracy: 0.9176 - val_loss: 0.0732 - val_accuracy: 0.9845\n",
      "Epoch 96/1000\n",
      "36/70 [==============>...............] - ETA: 0s - loss: 0.2512 - accuracy: 0.9123\n",
      "Epoch 96: saving model to model/keypoint_classifier\\keypoint_classifier.hdf5\n",
      "70/70 [==============================] - 0s 3ms/step - loss: 0.2561 - accuracy: 0.9113 - val_loss: 0.0728 - val_accuracy: 0.9852\n",
      "Epoch 97/1000\n",
      "64/70 [==========================>...] - ETA: 0s - loss: 0.2479 - accuracy: 0.9130\n",
      "Epoch 97: saving model to model/keypoint_classifier\\keypoint_classifier.hdf5\n",
      "70/70 [==============================] - 0s 3ms/step - loss: 0.2475 - accuracy: 0.9136 - val_loss: 0.0705 - val_accuracy: 0.9848\n",
      "Epoch 98/1000\n",
      "65/70 [==========================>...] - ETA: 0s - loss: 0.2380 - accuracy: 0.9156\n",
      "Epoch 98: saving model to model/keypoint_classifier\\keypoint_classifier.hdf5\n",
      "70/70 [==============================] - 0s 3ms/step - loss: 0.2392 - accuracy: 0.9152 - val_loss: 0.0709 - val_accuracy: 0.9855\n",
      "Epoch 99/1000\n",
      "52/70 [=====================>........] - ETA: 0s - loss: 0.2368 - accuracy: 0.9178\n",
      "Epoch 99: saving model to model/keypoint_classifier\\keypoint_classifier.hdf5\n",
      "70/70 [==============================] - 0s 3ms/step - loss: 0.2400 - accuracy: 0.9165 - val_loss: 0.0735 - val_accuracy: 0.9855\n",
      "Epoch 100/1000\n",
      "70/70 [==============================] - ETA: 0s - loss: 0.2320 - accuracy: 0.9230\n",
      "Epoch 100: saving model to model/keypoint_classifier\\keypoint_classifier.hdf5\n",
      "70/70 [==============================] - 0s 2ms/step - loss: 0.2320 - accuracy: 0.9230 - val_loss: 0.0694 - val_accuracy: 0.9855\n",
      "Epoch 101/1000\n",
      "67/70 [===========================>..] - ETA: 0s - loss: 0.2339 - accuracy: 0.9173\n",
      "Epoch 101: saving model to model/keypoint_classifier\\keypoint_classifier.hdf5\n",
      "70/70 [==============================] - 0s 3ms/step - loss: 0.2347 - accuracy: 0.9169 - val_loss: 0.0719 - val_accuracy: 0.9855\n",
      "Epoch 102/1000\n",
      "67/70 [===========================>..] - ETA: 0s - loss: 0.2463 - accuracy: 0.9162\n",
      "Epoch 102: saving model to model/keypoint_classifier\\keypoint_classifier.hdf5\n",
      "70/70 [==============================] - 0s 3ms/step - loss: 0.2444 - accuracy: 0.9167 - val_loss: 0.0682 - val_accuracy: 0.9858\n",
      "Epoch 103/1000\n",
      "62/70 [=========================>....] - ETA: 0s - loss: 0.2355 - accuracy: 0.9207\n",
      "Epoch 103: saving model to model/keypoint_classifier\\keypoint_classifier.hdf5\n",
      "70/70 [==============================] - 0s 3ms/step - loss: 0.2358 - accuracy: 0.9205 - val_loss: 0.0694 - val_accuracy: 0.9855\n",
      "Epoch 104/1000\n",
      "57/70 [=======================>......] - ETA: 0s - loss: 0.2549 - accuracy: 0.9117\n",
      "Epoch 104: saving model to model/keypoint_classifier\\keypoint_classifier.hdf5\n",
      "70/70 [==============================] - 0s 3ms/step - loss: 0.2510 - accuracy: 0.9122 - val_loss: 0.0707 - val_accuracy: 0.9858\n",
      "Epoch 105/1000\n",
      "37/70 [==============>...............] - ETA: 0s - loss: 0.2193 - accuracy: 0.9223\n",
      "Epoch 105: saving model to model/keypoint_classifier\\keypoint_classifier.hdf5\n",
      "70/70 [==============================] - 0s 3ms/step - loss: 0.2345 - accuracy: 0.9180 - val_loss: 0.0695 - val_accuracy: 0.9865\n",
      "Epoch 106/1000\n",
      "70/70 [==============================] - ETA: 0s - loss: 0.2352 - accuracy: 0.9183\n",
      "Epoch 106: saving model to model/keypoint_classifier\\keypoint_classifier.hdf5\n",
      "70/70 [==============================] - 0s 3ms/step - loss: 0.2352 - accuracy: 0.9183 - val_loss: 0.0694 - val_accuracy: 0.9865\n",
      "Epoch 107/1000\n",
      "62/70 [=========================>....] - ETA: 0s - loss: 0.2296 - accuracy: 0.9191\n",
      "Epoch 107: saving model to model/keypoint_classifier\\keypoint_classifier.hdf5\n",
      "70/70 [==============================] - 0s 3ms/step - loss: 0.2316 - accuracy: 0.9175 - val_loss: 0.0687 - val_accuracy: 0.9868\n",
      "Epoch 108/1000\n",
      "65/70 [==========================>...] - ETA: 0s - loss: 0.2423 - accuracy: 0.9143\n",
      "Epoch 108: saving model to model/keypoint_classifier\\keypoint_classifier.hdf5\n",
      "70/70 [==============================] - 0s 3ms/step - loss: 0.2438 - accuracy: 0.9141 - val_loss: 0.0684 - val_accuracy: 0.9862\n",
      "Epoch 109/1000\n",
      "58/70 [=======================>......] - ETA: 0s - loss: 0.2384 - accuracy: 0.9177\n",
      "Epoch 109: saving model to model/keypoint_classifier\\keypoint_classifier.hdf5\n",
      "70/70 [==============================] - 0s 3ms/step - loss: 0.2331 - accuracy: 0.9197 - val_loss: 0.0669 - val_accuracy: 0.9865\n",
      "Epoch 110/1000\n",
      "60/70 [========================>.....] - ETA: 0s - loss: 0.2351 - accuracy: 0.9223\n",
      "Epoch 110: saving model to model/keypoint_classifier\\keypoint_classifier.hdf5\n",
      "70/70 [==============================] - 0s 3ms/step - loss: 0.2374 - accuracy: 0.9208 - val_loss: 0.0704 - val_accuracy: 0.9858\n",
      "Epoch 111/1000\n",
      "61/70 [=========================>....] - ETA: 0s - loss: 0.2351 - accuracy: 0.9212\n",
      "Epoch 111: saving model to model/keypoint_classifier\\keypoint_classifier.hdf5\n",
      "70/70 [==============================] - 0s 3ms/step - loss: 0.2348 - accuracy: 0.9215 - val_loss: 0.0663 - val_accuracy: 0.9875\n",
      "Epoch 112/1000\n",
      "52/70 [=====================>........] - ETA: 0s - loss: 0.2317 - accuracy: 0.9219\n",
      "Epoch 112: saving model to model/keypoint_classifier\\keypoint_classifier.hdf5\n",
      "70/70 [==============================] - 0s 3ms/step - loss: 0.2297 - accuracy: 0.9216 - val_loss: 0.0666 - val_accuracy: 0.9875\n",
      "Epoch 113/1000\n",
      "60/70 [========================>.....] - ETA: 0s - loss: 0.2262 - accuracy: 0.9223\n",
      "Epoch 113: saving model to model/keypoint_classifier\\keypoint_classifier.hdf5\n",
      "70/70 [==============================] - 0s 3ms/step - loss: 0.2234 - accuracy: 0.9246 - val_loss: 0.0647 - val_accuracy: 0.9872\n",
      "Epoch 114/1000\n",
      "57/70 [=======================>......] - ETA: 0s - loss: 0.2265 - accuracy: 0.9212\n",
      "Epoch 114: saving model to model/keypoint_classifier\\keypoint_classifier.hdf5\n",
      "70/70 [==============================] - 0s 3ms/step - loss: 0.2319 - accuracy: 0.9199 - val_loss: 0.0662 - val_accuracy: 0.9875\n",
      "Epoch 115/1000\n",
      "61/70 [=========================>....] - ETA: 0s - loss: 0.2416 - accuracy: 0.9198\n",
      "Epoch 115: saving model to model/keypoint_classifier\\keypoint_classifier.hdf5\n",
      "70/70 [==============================] - 0s 3ms/step - loss: 0.2406 - accuracy: 0.9203 - val_loss: 0.0683 - val_accuracy: 0.9865\n",
      "Epoch 116/1000\n",
      "38/70 [===============>..............] - ETA: 0s - loss: 0.2360 - accuracy: 0.9192\n",
      "Epoch 116: saving model to model/keypoint_classifier\\keypoint_classifier.hdf5\n",
      "70/70 [==============================] - 0s 2ms/step - loss: 0.2303 - accuracy: 0.9206 - val_loss: 0.0636 - val_accuracy: 0.9875\n",
      "Epoch 117/1000\n",
      "56/70 [=======================>......] - ETA: 0s - loss: 0.2278 - accuracy: 0.9222\n",
      "Epoch 117: saving model to model/keypoint_classifier\\keypoint_classifier.hdf5\n",
      "70/70 [==============================] - 0s 3ms/step - loss: 0.2282 - accuracy: 0.9224 - val_loss: 0.0649 - val_accuracy: 0.9882\n",
      "Epoch 118/1000\n",
      "59/70 [========================>.....] - ETA: 0s - loss: 0.2307 - accuracy: 0.9190\n",
      "Epoch 118: saving model to model/keypoint_classifier\\keypoint_classifier.hdf5\n",
      "70/70 [==============================] - 0s 3ms/step - loss: 0.2264 - accuracy: 0.9197 - val_loss: 0.0658 - val_accuracy: 0.9875\n",
      "Epoch 119/1000\n",
      "59/70 [========================>.....] - ETA: 0s - loss: 0.2291 - accuracy: 0.9207\n",
      "Epoch 119: saving model to model/keypoint_classifier\\keypoint_classifier.hdf5\n",
      "70/70 [==============================] - 0s 3ms/step - loss: 0.2292 - accuracy: 0.9196 - val_loss: 0.0650 - val_accuracy: 0.9875\n",
      "Epoch 120/1000\n",
      "62/70 [=========================>....] - ETA: 0s - loss: 0.2299 - accuracy: 0.9248\n",
      "Epoch 120: saving model to model/keypoint_classifier\\keypoint_classifier.hdf5\n",
      "70/70 [==============================] - 0s 3ms/step - loss: 0.2285 - accuracy: 0.9247 - val_loss: 0.0650 - val_accuracy: 0.9889\n",
      "Epoch 121/1000\n",
      "60/70 [========================>.....] - ETA: 0s - loss: 0.2323 - accuracy: 0.9189\n",
      "Epoch 121: saving model to model/keypoint_classifier\\keypoint_classifier.hdf5\n",
      "70/70 [==============================] - 0s 3ms/step - loss: 0.2290 - accuracy: 0.9204 - val_loss: 0.0640 - val_accuracy: 0.9865\n",
      "Epoch 122/1000\n",
      "60/70 [========================>.....] - ETA: 0s - loss: 0.2258 - accuracy: 0.9202\n",
      "Epoch 122: saving model to model/keypoint_classifier\\keypoint_classifier.hdf5\n",
      "70/70 [==============================] - 0s 3ms/step - loss: 0.2259 - accuracy: 0.9198 - val_loss: 0.0597 - val_accuracy: 0.9882\n",
      "Epoch 123/1000\n",
      "62/70 [=========================>....] - ETA: 0s - loss: 0.2342 - accuracy: 0.9219\n",
      "Epoch 123: saving model to model/keypoint_classifier\\keypoint_classifier.hdf5\n",
      "70/70 [==============================] - 0s 3ms/step - loss: 0.2305 - accuracy: 0.9234 - val_loss: 0.0628 - val_accuracy: 0.9872\n",
      "Epoch 124/1000\n",
      "57/70 [=======================>......] - ETA: 0s - loss: 0.2185 - accuracy: 0.9243\n",
      "Epoch 124: saving model to model/keypoint_classifier\\keypoint_classifier.hdf5\n",
      "70/70 [==============================] - 0s 3ms/step - loss: 0.2233 - accuracy: 0.9230 - val_loss: 0.0613 - val_accuracy: 0.9889\n",
      "Epoch 125/1000\n",
      "65/70 [==========================>...] - ETA: 0s - loss: 0.2256 - accuracy: 0.9183\n",
      "Epoch 125: saving model to model/keypoint_classifier\\keypoint_classifier.hdf5\n",
      "70/70 [==============================] - 0s 3ms/step - loss: 0.2232 - accuracy: 0.9195 - val_loss: 0.0614 - val_accuracy: 0.9862\n",
      "Epoch 126/1000\n",
      "57/70 [=======================>......] - ETA: 0s - loss: 0.2358 - accuracy: 0.9167\n",
      "Epoch 126: saving model to model/keypoint_classifier\\keypoint_classifier.hdf5\n",
      "70/70 [==============================] - 0s 3ms/step - loss: 0.2347 - accuracy: 0.9172 - val_loss: 0.0602 - val_accuracy: 0.9865\n",
      "Epoch 127/1000\n",
      "57/70 [=======================>......] - ETA: 0s - loss: 0.2146 - accuracy: 0.9237\n",
      "Epoch 127: saving model to model/keypoint_classifier\\keypoint_classifier.hdf5\n",
      "70/70 [==============================] - 0s 3ms/step - loss: 0.2163 - accuracy: 0.9243 - val_loss: 0.0599 - val_accuracy: 0.9882\n",
      "Epoch 128/1000\n",
      "62/70 [=========================>....] - ETA: 0s - loss: 0.2295 - accuracy: 0.9228\n",
      "Epoch 128: saving model to model/keypoint_classifier\\keypoint_classifier.hdf5\n",
      "70/70 [==============================] - 0s 3ms/step - loss: 0.2281 - accuracy: 0.9220 - val_loss: 0.0630 - val_accuracy: 0.9872\n",
      "Epoch 129/1000\n",
      "54/70 [======================>.......] - ETA: 0s - loss: 0.2248 - accuracy: 0.9219\n",
      "Epoch 129: saving model to model/keypoint_classifier\\keypoint_classifier.hdf5\n",
      "70/70 [==============================] - 0s 3ms/step - loss: 0.2199 - accuracy: 0.9234 - val_loss: 0.0594 - val_accuracy: 0.9882\n",
      "Epoch 130/1000\n",
      "62/70 [=========================>....] - ETA: 0s - loss: 0.2297 - accuracy: 0.9214\n",
      "Epoch 130: saving model to model/keypoint_classifier\\keypoint_classifier.hdf5\n",
      "70/70 [==============================] - 0s 2ms/step - loss: 0.2275 - accuracy: 0.9234 - val_loss: 0.0613 - val_accuracy: 0.9882\n",
      "Epoch 131/1000\n",
      "62/70 [=========================>....] - ETA: 0s - loss: 0.2254 - accuracy: 0.9230\n",
      "Epoch 131: saving model to model/keypoint_classifier\\keypoint_classifier.hdf5\n",
      "70/70 [==============================] - 0s 3ms/step - loss: 0.2239 - accuracy: 0.9241 - val_loss: 0.0605 - val_accuracy: 0.9882\n",
      "Epoch 132/1000\n",
      "57/70 [=======================>......] - ETA: 0s - loss: 0.2314 - accuracy: 0.9201\n",
      "Epoch 132: saving model to model/keypoint_classifier\\keypoint_classifier.hdf5\n",
      "70/70 [==============================] - 0s 3ms/step - loss: 0.2299 - accuracy: 0.9206 - val_loss: 0.0632 - val_accuracy: 0.9875\n",
      "Epoch 133/1000\n",
      "60/70 [========================>.....] - ETA: 0s - loss: 0.2250 - accuracy: 0.9227\n",
      "Epoch 133: saving model to model/keypoint_classifier\\keypoint_classifier.hdf5\n",
      "70/70 [==============================] - 0s 3ms/step - loss: 0.2251 - accuracy: 0.9215 - val_loss: 0.0617 - val_accuracy: 0.9855\n",
      "Epoch 134/1000\n",
      "60/70 [========================>.....] - ETA: 0s - loss: 0.2334 - accuracy: 0.9187\n",
      "Epoch 134: saving model to model/keypoint_classifier\\keypoint_classifier.hdf5\n",
      "70/70 [==============================] - 0s 3ms/step - loss: 0.2337 - accuracy: 0.9178 - val_loss: 0.0624 - val_accuracy: 0.9862\n",
      "Epoch 135/1000\n",
      "30/70 [===========>..................] - ETA: 0s - loss: 0.2267 - accuracy: 0.9206\n",
      "Epoch 135: saving model to model/keypoint_classifier\\keypoint_classifier.hdf5\n",
      "70/70 [==============================] - 0s 3ms/step - loss: 0.2205 - accuracy: 0.9239 - val_loss: 0.0625 - val_accuracy: 0.9868\n",
      "Epoch 136/1000\n",
      "60/70 [========================>.....] - ETA: 0s - loss: 0.2212 - accuracy: 0.9238\n",
      "Epoch 136: saving model to model/keypoint_classifier\\keypoint_classifier.hdf5\n",
      "70/70 [==============================] - 0s 3ms/step - loss: 0.2201 - accuracy: 0.9239 - val_loss: 0.0609 - val_accuracy: 0.9872\n",
      "Epoch 137/1000\n",
      "61/70 [=========================>....] - ETA: 0s - loss: 0.2142 - accuracy: 0.9262\n",
      "Epoch 137: saving model to model/keypoint_classifier\\keypoint_classifier.hdf5\n",
      "70/70 [==============================] - 0s 3ms/step - loss: 0.2141 - accuracy: 0.9269 - val_loss: 0.0627 - val_accuracy: 0.9875\n",
      "Epoch 138/1000\n",
      "66/70 [===========================>..] - ETA: 0s - loss: 0.2286 - accuracy: 0.9188\n",
      "Epoch 138: saving model to model/keypoint_classifier\\keypoint_classifier.hdf5\n",
      "70/70 [==============================] - 0s 3ms/step - loss: 0.2264 - accuracy: 0.9195 - val_loss: 0.0607 - val_accuracy: 0.9882\n",
      "Epoch 139/1000\n",
      "68/70 [============================>.] - ETA: 0s - loss: 0.2284 - accuracy: 0.9235\n",
      "Epoch 139: saving model to model/keypoint_classifier\\keypoint_classifier.hdf5\n",
      "70/70 [==============================] - 0s 3ms/step - loss: 0.2290 - accuracy: 0.9231 - val_loss: 0.0623 - val_accuracy: 0.9882\n",
      "Epoch 140/1000\n",
      "33/70 [=============>................] - ETA: 0s - loss: 0.2280 - accuracy: 0.9188\n",
      "Epoch 140: saving model to model/keypoint_classifier\\keypoint_classifier.hdf5\n",
      "70/70 [==============================] - 0s 3ms/step - loss: 0.2186 - accuracy: 0.9241 - val_loss: 0.0600 - val_accuracy: 0.9875\n",
      "Epoch 141/1000\n",
      "62/70 [=========================>....] - ETA: 0s - loss: 0.2134 - accuracy: 0.9294\n",
      "Epoch 141: saving model to model/keypoint_classifier\\keypoint_classifier.hdf5\n",
      "70/70 [==============================] - 0s 3ms/step - loss: 0.2133 - accuracy: 0.9294 - val_loss: 0.0586 - val_accuracy: 0.9882\n",
      "Epoch 142/1000\n",
      "52/70 [=====================>........] - ETA: 0s - loss: 0.2274 - accuracy: 0.9181\n",
      "Epoch 142: saving model to model/keypoint_classifier\\keypoint_classifier.hdf5\n",
      "70/70 [==============================] - 0s 3ms/step - loss: 0.2270 - accuracy: 0.9188 - val_loss: 0.0612 - val_accuracy: 0.9872\n",
      "Epoch 143/1000\n",
      "57/70 [=======================>......] - ETA: 0s - loss: 0.2177 - accuracy: 0.9280\n",
      "Epoch 143: saving model to model/keypoint_classifier\\keypoint_classifier.hdf5\n",
      "70/70 [==============================] - 0s 3ms/step - loss: 0.2174 - accuracy: 0.9279 - val_loss: 0.0609 - val_accuracy: 0.9875\n",
      "Epoch 144/1000\n",
      "63/70 [==========================>...] - ETA: 0s - loss: 0.2121 - accuracy: 0.9283\n",
      "Epoch 144: saving model to model/keypoint_classifier\\keypoint_classifier.hdf5\n",
      "70/70 [==============================] - 0s 3ms/step - loss: 0.2123 - accuracy: 0.9275 - val_loss: 0.0584 - val_accuracy: 0.9875\n",
      "Epoch 145/1000\n",
      "63/70 [==========================>...] - ETA: 0s - loss: 0.2116 - accuracy: 0.9258\n",
      "Epoch 145: saving model to model/keypoint_classifier\\keypoint_classifier.hdf5\n",
      "70/70 [==============================] - 0s 3ms/step - loss: 0.2099 - accuracy: 0.9269 - val_loss: 0.0582 - val_accuracy: 0.9875\n",
      "Epoch 146/1000\n",
      "62/70 [=========================>....] - ETA: 0s - loss: 0.2259 - accuracy: 0.9230\n",
      "Epoch 146: saving model to model/keypoint_classifier\\keypoint_classifier.hdf5\n",
      "70/70 [==============================] - 0s 3ms/step - loss: 0.2241 - accuracy: 0.9232 - val_loss: 0.0595 - val_accuracy: 0.9875\n",
      "Epoch 147/1000\n",
      "66/70 [===========================>..] - ETA: 0s - loss: 0.2249 - accuracy: 0.9227\n",
      "Epoch 147: saving model to model/keypoint_classifier\\keypoint_classifier.hdf5\n",
      "70/70 [==============================] - 0s 3ms/step - loss: 0.2238 - accuracy: 0.9226 - val_loss: 0.0583 - val_accuracy: 0.9879\n",
      "Epoch 148/1000\n",
      "67/70 [===========================>..] - ETA: 0s - loss: 0.2156 - accuracy: 0.9279\n",
      "Epoch 148: saving model to model/keypoint_classifier\\keypoint_classifier.hdf5\n",
      "70/70 [==============================] - 0s 2ms/step - loss: 0.2144 - accuracy: 0.9287 - val_loss: 0.0602 - val_accuracy: 0.9882\n",
      "Epoch 149/1000\n",
      "62/70 [=========================>....] - ETA: 0s - loss: 0.2191 - accuracy: 0.9252\n",
      "Epoch 149: saving model to model/keypoint_classifier\\keypoint_classifier.hdf5\n",
      "70/70 [==============================] - 0s 2ms/step - loss: 0.2195 - accuracy: 0.9255 - val_loss: 0.0582 - val_accuracy: 0.9889\n",
      "Epoch 150/1000\n",
      "58/70 [=======================>......] - ETA: 0s - loss: 0.2104 - accuracy: 0.9247\n",
      "Epoch 150: saving model to model/keypoint_classifier\\keypoint_classifier.hdf5\n",
      "70/70 [==============================] - 0s 2ms/step - loss: 0.2129 - accuracy: 0.9251 - val_loss: 0.0593 - val_accuracy: 0.9885\n",
      "Epoch 151/1000\n",
      "37/70 [==============>...............] - ETA: 0s - loss: 0.2123 - accuracy: 0.9278\n",
      "Epoch 151: saving model to model/keypoint_classifier\\keypoint_classifier.hdf5\n",
      "70/70 [==============================] - 0s 3ms/step - loss: 0.2158 - accuracy: 0.9269 - val_loss: 0.0613 - val_accuracy: 0.9879\n",
      "Epoch 152/1000\n",
      "66/70 [===========================>..] - ETA: 0s - loss: 0.2277 - accuracy: 0.9240\n",
      "Epoch 152: saving model to model/keypoint_classifier\\keypoint_classifier.hdf5\n",
      "70/70 [==============================] - 0s 3ms/step - loss: 0.2260 - accuracy: 0.9244 - val_loss: 0.0583 - val_accuracy: 0.9889\n",
      "Epoch 153/1000\n",
      "36/70 [==============>...............] - ETA: 0s - loss: 0.2266 - accuracy: 0.9247\n",
      "Epoch 153: saving model to model/keypoint_classifier\\keypoint_classifier.hdf5\n",
      "70/70 [==============================] - 0s 2ms/step - loss: 0.2250 - accuracy: 0.9244 - val_loss: 0.0605 - val_accuracy: 0.9879\n",
      "Epoch 154/1000\n",
      "56/70 [=======================>......] - ETA: 0s - loss: 0.2171 - accuracy: 0.9266\n",
      "Epoch 154: saving model to model/keypoint_classifier\\keypoint_classifier.hdf5\n",
      "70/70 [==============================] - 0s 3ms/step - loss: 0.2150 - accuracy: 0.9269 - val_loss: 0.0559 - val_accuracy: 0.9882\n",
      "Epoch 155/1000\n",
      "60/70 [========================>.....] - ETA: 0s - loss: 0.2345 - accuracy: 0.9190\n",
      "Epoch 155: saving model to model/keypoint_classifier\\keypoint_classifier.hdf5\n",
      "70/70 [==============================] - 0s 3ms/step - loss: 0.2321 - accuracy: 0.9189 - val_loss: 0.0587 - val_accuracy: 0.9865\n",
      "Epoch 156/1000\n",
      "59/70 [========================>.....] - ETA: 0s - loss: 0.2134 - accuracy: 0.9289\n",
      "Epoch 156: saving model to model/keypoint_classifier\\keypoint_classifier.hdf5\n",
      "70/70 [==============================] - 0s 3ms/step - loss: 0.2167 - accuracy: 0.9284 - val_loss: 0.0574 - val_accuracy: 0.9889\n",
      "Epoch 157/1000\n",
      "40/70 [================>.............] - ETA: 0s - loss: 0.2162 - accuracy: 0.9291\n",
      "Epoch 157: saving model to model/keypoint_classifier\\keypoint_classifier.hdf5\n",
      "70/70 [==============================] - 0s 2ms/step - loss: 0.2156 - accuracy: 0.9287 - val_loss: 0.0621 - val_accuracy: 0.9868\n",
      "Epoch 158/1000\n",
      "36/70 [==============>...............] - ETA: 0s - loss: 0.2110 - accuracy: 0.9282\n",
      "Epoch 158: saving model to model/keypoint_classifier\\keypoint_classifier.hdf5\n",
      "70/70 [==============================] - 0s 2ms/step - loss: 0.2095 - accuracy: 0.9295 - val_loss: 0.0564 - val_accuracy: 0.9882\n",
      "Epoch 159/1000\n",
      "70/70 [==============================] - ETA: 0s - loss: 0.2194 - accuracy: 0.9228\n",
      "Epoch 159: saving model to model/keypoint_classifier\\keypoint_classifier.hdf5\n",
      "70/70 [==============================] - 0s 2ms/step - loss: 0.2194 - accuracy: 0.9228 - val_loss: 0.0596 - val_accuracy: 0.9872\n",
      "Epoch 160/1000\n",
      "58/70 [=======================>......] - ETA: 0s - loss: 0.2246 - accuracy: 0.9190\n",
      "Epoch 160: saving model to model/keypoint_classifier\\keypoint_classifier.hdf5\n",
      "70/70 [==============================] - 0s 3ms/step - loss: 0.2288 - accuracy: 0.9181 - val_loss: 0.0575 - val_accuracy: 0.9879\n",
      "Epoch 161/1000\n",
      "55/70 [======================>.......] - ETA: 0s - loss: 0.2109 - accuracy: 0.9284\n",
      "Epoch 161: saving model to model/keypoint_classifier\\keypoint_classifier.hdf5\n",
      "70/70 [==============================] - 0s 3ms/step - loss: 0.2070 - accuracy: 0.9285 - val_loss: 0.0570 - val_accuracy: 0.9875\n",
      "Epoch 162/1000\n",
      "70/70 [==============================] - ETA: 0s - loss: 0.2134 - accuracy: 0.9249\n",
      "Epoch 162: saving model to model/keypoint_classifier\\keypoint_classifier.hdf5\n",
      "70/70 [==============================] - 0s 3ms/step - loss: 0.2134 - accuracy: 0.9249 - val_loss: 0.0595 - val_accuracy: 0.9872\n",
      "Epoch 163/1000\n",
      "70/70 [==============================] - ETA: 0s - loss: 0.2149 - accuracy: 0.9264\n",
      "Epoch 163: saving model to model/keypoint_classifier\\keypoint_classifier.hdf5\n",
      "70/70 [==============================] - 0s 2ms/step - loss: 0.2149 - accuracy: 0.9264 - val_loss: 0.0579 - val_accuracy: 0.9879\n",
      "Epoch 164/1000\n",
      "51/70 [====================>.........] - ETA: 0s - loss: 0.2095 - accuracy: 0.9282\n",
      "Epoch 164: saving model to model/keypoint_classifier\\keypoint_classifier.hdf5\n",
      "70/70 [==============================] - 0s 3ms/step - loss: 0.2096 - accuracy: 0.9283 - val_loss: 0.0565 - val_accuracy: 0.9889\n",
      "Epoch 165/1000\n",
      "55/70 [======================>.......] - ETA: 0s - loss: 0.2231 - accuracy: 0.9246\n",
      "Epoch 165: saving model to model/keypoint_classifier\\keypoint_classifier.hdf5\n",
      "70/70 [==============================] - 0s 3ms/step - loss: 0.2229 - accuracy: 0.9251 - val_loss: 0.0572 - val_accuracy: 0.9882\n",
      "Epoch 166/1000\n",
      "66/70 [===========================>..] - ETA: 0s - loss: 0.2137 - accuracy: 0.9266\n",
      "Epoch 166: saving model to model/keypoint_classifier\\keypoint_classifier.hdf5\n",
      "70/70 [==============================] - 0s 3ms/step - loss: 0.2149 - accuracy: 0.9262 - val_loss: 0.0587 - val_accuracy: 0.9889\n",
      "Epoch 167/1000\n",
      "59/70 [========================>.....] - ETA: 0s - loss: 0.2089 - accuracy: 0.9257\n",
      "Epoch 167: saving model to model/keypoint_classifier\\keypoint_classifier.hdf5\n",
      "70/70 [==============================] - 0s 3ms/step - loss: 0.2090 - accuracy: 0.9264 - val_loss: 0.0583 - val_accuracy: 0.9882\n",
      "Epoch 168/1000\n",
      "57/70 [=======================>......] - ETA: 0s - loss: 0.2078 - accuracy: 0.9301\n",
      "Epoch 168: saving model to model/keypoint_classifier\\keypoint_classifier.hdf5\n",
      "70/70 [==============================] - 0s 3ms/step - loss: 0.2076 - accuracy: 0.9295 - val_loss: 0.0556 - val_accuracy: 0.9885\n",
      "Epoch 169/1000\n",
      "53/70 [=====================>........] - ETA: 0s - loss: 0.2074 - accuracy: 0.9290\n",
      "Epoch 169: saving model to model/keypoint_classifier\\keypoint_classifier.hdf5\n",
      "70/70 [==============================] - 0s 3ms/step - loss: 0.2126 - accuracy: 0.9260 - val_loss: 0.0581 - val_accuracy: 0.9879\n",
      "Epoch 170/1000\n",
      "33/70 [=============>................] - ETA: 0s - loss: 0.2105 - accuracy: 0.9316\n",
      "Epoch 170: saving model to model/keypoint_classifier\\keypoint_classifier.hdf5\n",
      "70/70 [==============================] - 0s 3ms/step - loss: 0.2017 - accuracy: 0.9315 - val_loss: 0.0556 - val_accuracy: 0.9882\n",
      "Epoch 171/1000\n",
      "61/70 [=========================>....] - ETA: 0s - loss: 0.2019 - accuracy: 0.9305\n",
      "Epoch 171: saving model to model/keypoint_classifier\\keypoint_classifier.hdf5\n",
      "70/70 [==============================] - 0s 3ms/step - loss: 0.2067 - accuracy: 0.9294 - val_loss: 0.0583 - val_accuracy: 0.9882\n",
      "Epoch 172/1000\n",
      "54/70 [======================>.......] - ETA: 0s - loss: 0.2023 - accuracy: 0.9303\n",
      "Epoch 172: saving model to model/keypoint_classifier\\keypoint_classifier.hdf5\n",
      "70/70 [==============================] - 0s 3ms/step - loss: 0.2037 - accuracy: 0.9303 - val_loss: 0.0551 - val_accuracy: 0.9892\n",
      "Epoch 173/1000\n",
      "64/70 [==========================>...] - ETA: 0s - loss: 0.2016 - accuracy: 0.9291\n",
      "Epoch 173: saving model to model/keypoint_classifier\\keypoint_classifier.hdf5\n",
      "70/70 [==============================] - 0s 3ms/step - loss: 0.2024 - accuracy: 0.9292 - val_loss: 0.0577 - val_accuracy: 0.9882\n",
      "Epoch 174/1000\n",
      "60/70 [========================>.....] - ETA: 0s - loss: 0.2008 - accuracy: 0.9277\n",
      "Epoch 174: saving model to model/keypoint_classifier\\keypoint_classifier.hdf5\n",
      "70/70 [==============================] - 0s 3ms/step - loss: 0.2012 - accuracy: 0.9282 - val_loss: 0.0583 - val_accuracy: 0.9885\n",
      "Epoch 175/1000\n",
      "58/70 [=======================>......] - ETA: 0s - loss: 0.2069 - accuracy: 0.9321\n",
      "Epoch 175: saving model to model/keypoint_classifier\\keypoint_classifier.hdf5\n",
      "70/70 [==============================] - 0s 3ms/step - loss: 0.2113 - accuracy: 0.9305 - val_loss: 0.0548 - val_accuracy: 0.9889\n",
      "Epoch 176/1000\n",
      "60/70 [========================>.....] - ETA: 0s - loss: 0.2159 - accuracy: 0.9237\n",
      "Epoch 176: saving model to model/keypoint_classifier\\keypoint_classifier.hdf5\n",
      "70/70 [==============================] - 0s 3ms/step - loss: 0.2128 - accuracy: 0.9253 - val_loss: 0.0557 - val_accuracy: 0.9882\n",
      "Epoch 177/1000\n",
      "40/70 [================>.............] - ETA: 0s - loss: 0.2076 - accuracy: 0.9268\n",
      "Epoch 177: saving model to model/keypoint_classifier\\keypoint_classifier.hdf5\n",
      "70/70 [==============================] - 0s 2ms/step - loss: 0.2093 - accuracy: 0.9278 - val_loss: 0.0573 - val_accuracy: 0.9879\n",
      "Epoch 178/1000\n",
      "63/70 [==========================>...] - ETA: 0s - loss: 0.2097 - accuracy: 0.9257\n",
      "Epoch 178: saving model to model/keypoint_classifier\\keypoint_classifier.hdf5\n",
      "70/70 [==============================] - 0s 3ms/step - loss: 0.2080 - accuracy: 0.9266 - val_loss: 0.0545 - val_accuracy: 0.9885\n",
      "Epoch 179/1000\n",
      "60/70 [========================>.....] - ETA: 0s - loss: 0.2068 - accuracy: 0.9285\n",
      "Epoch 179: saving model to model/keypoint_classifier\\keypoint_classifier.hdf5\n",
      "70/70 [==============================] - 0s 3ms/step - loss: 0.2077 - accuracy: 0.9279 - val_loss: 0.0559 - val_accuracy: 0.9879\n",
      "Epoch 180/1000\n",
      "54/70 [======================>.......] - ETA: 0s - loss: 0.2111 - accuracy: 0.9290\n",
      "Epoch 180: saving model to model/keypoint_classifier\\keypoint_classifier.hdf5\n",
      "70/70 [==============================] - 0s 3ms/step - loss: 0.2056 - accuracy: 0.9297 - val_loss: 0.0551 - val_accuracy: 0.9885\n",
      "Epoch 181/1000\n",
      "57/70 [=======================>......] - ETA: 0s - loss: 0.2099 - accuracy: 0.9279\n",
      "Epoch 181: saving model to model/keypoint_classifier\\keypoint_classifier.hdf5\n",
      "70/70 [==============================] - 0s 3ms/step - loss: 0.2151 - accuracy: 0.9259 - val_loss: 0.0599 - val_accuracy: 0.9889\n",
      "Epoch 182/1000\n",
      "69/70 [============================>.] - ETA: 0s - loss: 0.2062 - accuracy: 0.9306\n",
      "Epoch 182: saving model to model/keypoint_classifier\\keypoint_classifier.hdf5\n",
      "70/70 [==============================] - 0s 2ms/step - loss: 0.2066 - accuracy: 0.9303 - val_loss: 0.0566 - val_accuracy: 0.9872\n",
      "Epoch 183/1000\n",
      "69/70 [============================>.] - ETA: 0s - loss: 0.2045 - accuracy: 0.9297\n",
      "Epoch 183: saving model to model/keypoint_classifier\\keypoint_classifier.hdf5\n",
      "70/70 [==============================] - 0s 3ms/step - loss: 0.2043 - accuracy: 0.9296 - val_loss: 0.0546 - val_accuracy: 0.9882\n",
      "Epoch 184/1000\n",
      "63/70 [==========================>...] - ETA: 0s - loss: 0.2128 - accuracy: 0.9265\n",
      "Epoch 184: saving model to model/keypoint_classifier\\keypoint_classifier.hdf5\n",
      "70/70 [==============================] - 0s 3ms/step - loss: 0.2116 - accuracy: 0.9277 - val_loss: 0.0572 - val_accuracy: 0.9885\n",
      "Epoch 185/1000\n",
      "60/70 [========================>.....] - ETA: 0s - loss: 0.2188 - accuracy: 0.9253\n",
      "Epoch 185: saving model to model/keypoint_classifier\\keypoint_classifier.hdf5\n",
      "70/70 [==============================] - 0s 3ms/step - loss: 0.2187 - accuracy: 0.9248 - val_loss: 0.0558 - val_accuracy: 0.9895\n",
      "Epoch 186/1000\n",
      "59/70 [========================>.....] - ETA: 0s - loss: 0.2017 - accuracy: 0.9303\n",
      "Epoch 186: saving model to model/keypoint_classifier\\keypoint_classifier.hdf5\n",
      "70/70 [==============================] - 0s 3ms/step - loss: 0.2008 - accuracy: 0.9316 - val_loss: 0.0545 - val_accuracy: 0.9879\n",
      "Epoch 187/1000\n",
      "60/70 [========================>.....] - ETA: 0s - loss: 0.2097 - accuracy: 0.9312\n",
      "Epoch 187: saving model to model/keypoint_classifier\\keypoint_classifier.hdf5\n",
      "70/70 [==============================] - 0s 3ms/step - loss: 0.2097 - accuracy: 0.9305 - val_loss: 0.0533 - val_accuracy: 0.9885\n",
      "Epoch 188/1000\n",
      "64/70 [==========================>...] - ETA: 0s - loss: 0.2003 - accuracy: 0.9325\n",
      "Epoch 188: saving model to model/keypoint_classifier\\keypoint_classifier.hdf5\n",
      "70/70 [==============================] - 0s 3ms/step - loss: 0.2008 - accuracy: 0.9324 - val_loss: 0.0543 - val_accuracy: 0.9882\n",
      "Epoch 189/1000\n",
      "59/70 [========================>.....] - ETA: 0s - loss: 0.2107 - accuracy: 0.9268\n",
      "Epoch 189: saving model to model/keypoint_classifier\\keypoint_classifier.hdf5\n",
      "70/70 [==============================] - 0s 3ms/step - loss: 0.2102 - accuracy: 0.9260 - val_loss: 0.0534 - val_accuracy: 0.9882\n",
      "Epoch 190/1000\n",
      "59/70 [========================>.....] - ETA: 0s - loss: 0.2111 - accuracy: 0.9258\n",
      "Epoch 190: saving model to model/keypoint_classifier\\keypoint_classifier.hdf5\n",
      "70/70 [==============================] - 0s 3ms/step - loss: 0.2094 - accuracy: 0.9261 - val_loss: 0.0541 - val_accuracy: 0.9882\n",
      "Epoch 191/1000\n",
      "56/70 [=======================>......] - ETA: 0s - loss: 0.2110 - accuracy: 0.9297\n",
      "Epoch 191: saving model to model/keypoint_classifier\\keypoint_classifier.hdf5\n",
      "70/70 [==============================] - 0s 3ms/step - loss: 0.2147 - accuracy: 0.9283 - val_loss: 0.0545 - val_accuracy: 0.9885\n",
      "Epoch 192/1000\n",
      "58/70 [=======================>......] - ETA: 0s - loss: 0.2163 - accuracy: 0.9267\n",
      "Epoch 192: saving model to model/keypoint_classifier\\keypoint_classifier.hdf5\n",
      "70/70 [==============================] - 0s 3ms/step - loss: 0.2148 - accuracy: 0.9270 - val_loss: 0.0542 - val_accuracy: 0.9875\n",
      "Epoch 193/1000\n",
      "60/70 [========================>.....] - ETA: 0s - loss: 0.2091 - accuracy: 0.9246\n",
      "Epoch 193: saving model to model/keypoint_classifier\\keypoint_classifier.hdf5\n",
      "70/70 [==============================] - 0s 3ms/step - loss: 0.2076 - accuracy: 0.9255 - val_loss: 0.0559 - val_accuracy: 0.9879\n",
      "Epoch 194/1000\n",
      "62/70 [=========================>....] - ETA: 0s - loss: 0.2133 - accuracy: 0.9312\n",
      "Epoch 194: saving model to model/keypoint_classifier\\keypoint_classifier.hdf5\n",
      "70/70 [==============================] - 0s 3ms/step - loss: 0.2127 - accuracy: 0.9303 - val_loss: 0.0533 - val_accuracy: 0.9882\n",
      "Epoch 195/1000\n",
      "46/70 [==================>...........] - ETA: 0s - loss: 0.2069 - accuracy: 0.9288\n",
      "Epoch 195: saving model to model/keypoint_classifier\\keypoint_classifier.hdf5\n",
      "70/70 [==============================] - 0s 3ms/step - loss: 0.1961 - accuracy: 0.9313 - val_loss: 0.0558 - val_accuracy: 0.9868\n",
      "Epoch 196/1000\n",
      "52/70 [=====================>........] - ETA: 0s - loss: 0.1904 - accuracy: 0.9306\n",
      "Epoch 196: saving model to model/keypoint_classifier\\keypoint_classifier.hdf5\n",
      "70/70 [==============================] - 0s 3ms/step - loss: 0.1882 - accuracy: 0.9318 - val_loss: 0.0524 - val_accuracy: 0.9885\n",
      "Epoch 197/1000\n",
      "55/70 [======================>.......] - ETA: 0s - loss: 0.2177 - accuracy: 0.9253\n",
      "Epoch 197: saving model to model/keypoint_classifier\\keypoint_classifier.hdf5\n",
      "70/70 [==============================] - 0s 3ms/step - loss: 0.2184 - accuracy: 0.9257 - val_loss: 0.0556 - val_accuracy: 0.9885\n",
      "Epoch 198/1000\n",
      "50/70 [====================>.........] - ETA: 0s - loss: 0.2099 - accuracy: 0.9245\n",
      "Epoch 198: saving model to model/keypoint_classifier\\keypoint_classifier.hdf5\n",
      "70/70 [==============================] - 0s 3ms/step - loss: 0.2106 - accuracy: 0.9253 - val_loss: 0.0551 - val_accuracy: 0.9882\n",
      "Epoch 199/1000\n",
      "61/70 [=========================>....] - ETA: 0s - loss: 0.2050 - accuracy: 0.9320\n",
      "Epoch 199: saving model to model/keypoint_classifier\\keypoint_classifier.hdf5\n",
      "70/70 [==============================] - 0s 3ms/step - loss: 0.2063 - accuracy: 0.9318 - val_loss: 0.0598 - val_accuracy: 0.9885\n",
      "Epoch 200/1000\n",
      "66/70 [===========================>..] - ETA: 0s - loss: 0.2057 - accuracy: 0.9285\n",
      "Epoch 200: saving model to model/keypoint_classifier\\keypoint_classifier.hdf5\n",
      "70/70 [==============================] - 0s 3ms/step - loss: 0.2070 - accuracy: 0.9280 - val_loss: 0.0503 - val_accuracy: 0.9892\n",
      "Epoch 201/1000\n",
      "62/70 [=========================>....] - ETA: 0s - loss: 0.2093 - accuracy: 0.9311\n",
      "Epoch 201: saving model to model/keypoint_classifier\\keypoint_classifier.hdf5\n",
      "70/70 [==============================] - 0s 3ms/step - loss: 0.2095 - accuracy: 0.9301 - val_loss: 0.0556 - val_accuracy: 0.9892\n",
      "Epoch 202/1000\n",
      "68/70 [============================>.] - ETA: 0s - loss: 0.1945 - accuracy: 0.9326\n",
      "Epoch 202: saving model to model/keypoint_classifier\\keypoint_classifier.hdf5\n",
      "70/70 [==============================] - 0s 2ms/step - loss: 0.1953 - accuracy: 0.9324 - val_loss: 0.0528 - val_accuracy: 0.9882\n",
      "Epoch 203/1000\n",
      "65/70 [==========================>...] - ETA: 0s - loss: 0.2129 - accuracy: 0.9281\n",
      "Epoch 203: saving model to model/keypoint_classifier\\keypoint_classifier.hdf5\n",
      "70/70 [==============================] - 0s 3ms/step - loss: 0.2126 - accuracy: 0.9288 - val_loss: 0.0537 - val_accuracy: 0.9889\n",
      "Epoch 204/1000\n",
      "65/70 [==========================>...] - ETA: 0s - loss: 0.1994 - accuracy: 0.9299\n",
      "Epoch 204: saving model to model/keypoint_classifier\\keypoint_classifier.hdf5\n",
      "70/70 [==============================] - 0s 2ms/step - loss: 0.2000 - accuracy: 0.9293 - val_loss: 0.0523 - val_accuracy: 0.9879\n",
      "Epoch 205/1000\n",
      "66/70 [===========================>..] - ETA: 0s - loss: 0.2066 - accuracy: 0.9287\n",
      "Epoch 205: saving model to model/keypoint_classifier\\keypoint_classifier.hdf5\n",
      "70/70 [==============================] - 0s 3ms/step - loss: 0.2069 - accuracy: 0.9288 - val_loss: 0.0517 - val_accuracy: 0.9895\n",
      "Epoch 206/1000\n",
      "35/70 [==============>...............] - ETA: 0s - loss: 0.1952 - accuracy: 0.9330\n",
      "Epoch 206: saving model to model/keypoint_classifier\\keypoint_classifier.hdf5\n",
      "70/70 [==============================] - 0s 2ms/step - loss: 0.1963 - accuracy: 0.9337 - val_loss: 0.0527 - val_accuracy: 0.9872\n",
      "Epoch 207/1000\n",
      "64/70 [==========================>...] - ETA: 0s - loss: 0.1988 - accuracy: 0.9325\n",
      "Epoch 207: saving model to model/keypoint_classifier\\keypoint_classifier.hdf5\n",
      "70/70 [==============================] - 0s 3ms/step - loss: 0.1990 - accuracy: 0.9320 - val_loss: 0.0524 - val_accuracy: 0.9868\n",
      "Epoch 208/1000\n",
      "56/70 [=======================>......] - ETA: 0s - loss: 0.2124 - accuracy: 0.9282\n",
      "Epoch 208: saving model to model/keypoint_classifier\\keypoint_classifier.hdf5\n",
      "70/70 [==============================] - 0s 3ms/step - loss: 0.2092 - accuracy: 0.9302 - val_loss: 0.0512 - val_accuracy: 0.9885\n",
      "Epoch 209/1000\n",
      "68/70 [============================>.] - ETA: 0s - loss: 0.1967 - accuracy: 0.9310\n",
      "Epoch 209: saving model to model/keypoint_classifier\\keypoint_classifier.hdf5\n",
      "70/70 [==============================] - 0s 3ms/step - loss: 0.1966 - accuracy: 0.9310 - val_loss: 0.0516 - val_accuracy: 0.9879\n",
      "Epoch 210/1000\n",
      "56/70 [=======================>......] - ETA: 0s - loss: 0.1997 - accuracy: 0.9315\n",
      "Epoch 210: saving model to model/keypoint_classifier\\keypoint_classifier.hdf5\n",
      "70/70 [==============================] - 0s 3ms/step - loss: 0.2007 - accuracy: 0.9316 - val_loss: 0.0513 - val_accuracy: 0.9882\n",
      "Epoch 211/1000\n",
      "28/70 [===========>..................] - ETA: 0s - loss: 0.1966 - accuracy: 0.9325\n",
      "Epoch 211: saving model to model/keypoint_classifier\\keypoint_classifier.hdf5\n",
      "70/70 [==============================] - 0s 2ms/step - loss: 0.2038 - accuracy: 0.9300 - val_loss: 0.0527 - val_accuracy: 0.9909\n",
      "Epoch 212/1000\n",
      "67/70 [===========================>..] - ETA: 0s - loss: 0.2005 - accuracy: 0.9309\n",
      "Epoch 212: saving model to model/keypoint_classifier\\keypoint_classifier.hdf5\n",
      "70/70 [==============================] - 0s 2ms/step - loss: 0.2032 - accuracy: 0.9302 - val_loss: 0.0530 - val_accuracy: 0.9892\n",
      "Epoch 213/1000\n",
      "65/70 [==========================>...] - ETA: 0s - loss: 0.1967 - accuracy: 0.9328\n",
      "Epoch 213: saving model to model/keypoint_classifier\\keypoint_classifier.hdf5\n",
      "70/70 [==============================] - 0s 3ms/step - loss: 0.1936 - accuracy: 0.9337 - val_loss: 0.0509 - val_accuracy: 0.9889\n",
      "Epoch 214/1000\n",
      "36/70 [==============>...............] - ETA: 0s - loss: 0.2053 - accuracy: 0.9280\n",
      "Epoch 214: saving model to model/keypoint_classifier\\keypoint_classifier.hdf5\n",
      "70/70 [==============================] - 0s 2ms/step - loss: 0.1989 - accuracy: 0.9313 - val_loss: 0.0517 - val_accuracy: 0.9892\n",
      "Epoch 215/1000\n",
      "53/70 [=====================>........] - ETA: 0s - loss: 0.1954 - accuracy: 0.9334\n",
      "Epoch 215: saving model to model/keypoint_classifier\\keypoint_classifier.hdf5\n",
      "70/70 [==============================] - 0s 3ms/step - loss: 0.2028 - accuracy: 0.9302 - val_loss: 0.0527 - val_accuracy: 0.9882\n",
      "Epoch 216/1000\n",
      "58/70 [=======================>......] - ETA: 0s - loss: 0.2064 - accuracy: 0.9305\n",
      "Epoch 216: saving model to model/keypoint_classifier\\keypoint_classifier.hdf5\n",
      "70/70 [==============================] - 0s 3ms/step - loss: 0.2048 - accuracy: 0.9312 - val_loss: 0.0560 - val_accuracy: 0.9892\n",
      "Epoch 217/1000\n",
      "60/70 [========================>.....] - ETA: 0s - loss: 0.2103 - accuracy: 0.9288\n",
      "Epoch 217: saving model to model/keypoint_classifier\\keypoint_classifier.hdf5\n",
      "70/70 [==============================] - 0s 3ms/step - loss: 0.2087 - accuracy: 0.9287 - val_loss: 0.0523 - val_accuracy: 0.9892\n",
      "Epoch 218/1000\n",
      "67/70 [===========================>..] - ETA: 0s - loss: 0.2010 - accuracy: 0.9274\n",
      "Epoch 218: saving model to model/keypoint_classifier\\keypoint_classifier.hdf5\n",
      "70/70 [==============================] - 0s 3ms/step - loss: 0.2021 - accuracy: 0.9266 - val_loss: 0.0527 - val_accuracy: 0.9879\n",
      "Epoch 219/1000\n",
      "56/70 [=======================>......] - ETA: 0s - loss: 0.2012 - accuracy: 0.9309\n",
      "Epoch 219: saving model to model/keypoint_classifier\\keypoint_classifier.hdf5\n",
      "70/70 [==============================] - 0s 3ms/step - loss: 0.2042 - accuracy: 0.9292 - val_loss: 0.0520 - val_accuracy: 0.9892\n",
      "Epoch 220/1000\n",
      "34/70 [=============>................] - ETA: 0s - loss: 0.1950 - accuracy: 0.9334\n",
      "Epoch 220: saving model to model/keypoint_classifier\\keypoint_classifier.hdf5\n",
      "70/70 [==============================] - 0s 2ms/step - loss: 0.1978 - accuracy: 0.9329 - val_loss: 0.0551 - val_accuracy: 0.9879\n",
      "Epoch 220: early stopping\n"
     ]
    },
    {
     "data": {
      "text/plain": "<keras.callbacks.History at 0x1c01ec22da0>"
     },
     "execution_count": 33,
     "metadata": {},
     "output_type": "execute_result"
    }
   ],
   "source": [
    "model.fit(\n",
    "    X_train,\n",
    "    y_train,\n",
    "    epochs=1000,\n",
    "    batch_size=128,\n",
    "    validation_data=(X_test, y_test),\n",
    "    callbacks=[cp_callback, es_callback]\n",
    ")"
   ]
  },
  {
   "cell_type": "code",
   "execution_count": 34,
   "metadata": {
    "pycharm": {
     "name": "#%%\n"
    }
   },
   "outputs": [
    {
     "name": "stdout",
     "output_type": "stream",
     "text": [
      "24/24 [==============================] - 0s 1ms/step - loss: 0.0551 - accuracy: 0.9879\n"
     ]
    }
   ],
   "source": [
    "# Model evaluation\n",
    "val_loss, val_acc = model.evaluate(X_test, y_test, batch_size=128)"
   ]
  },
  {
   "cell_type": "code",
   "execution_count": 35,
   "metadata": {
    "pycharm": {
     "name": "#%%\n"
    }
   },
   "outputs": [],
   "source": [
    "# Loading the saved model\n",
    "model = tf.keras.models.load_model(model_save_path)"
   ]
  },
  {
   "cell_type": "code",
   "execution_count": 36,
   "metadata": {
    "pycharm": {
     "name": "#%%\n"
    }
   },
   "outputs": [
    {
     "name": "stdout",
     "output_type": "stream",
     "text": [
      "1/1 [==============================] - 0s 49ms/step\n",
      "[3.6376126e-03 1.9078458e-02 7.6990001e-36 9.7728390e-01 3.4658193e-36\n",
      " 1.5883927e-26 0.0000000e+00 6.2374495e-31]\n",
      "3\n"
     ]
    }
   ],
   "source": [
    "# Model prediction - Inference test\n",
    "predict_result = model.predict(np.array([X_test[0]]))\n",
    "print(np.squeeze(predict_result))\n",
    "print(np.argmax(np.squeeze(predict_result)))"
   ]
  },
  {
   "cell_type": "markdown",
   "metadata": {
    "pycharm": {
     "name": "#%% md\n"
    }
   },
   "source": [
    "# mixed row"
   ]
  },
  {
   "cell_type": "code",
   "execution_count": 37,
   "metadata": {
    "pycharm": {
     "name": "#%%\n"
    }
   },
   "outputs": [
    {
     "name": "stdout",
     "output_type": "stream",
     "text": [
      "93/93 [==============================] - 0s 848us/step\n"
     ]
    },
    {
     "data": {
      "text/plain": "<Figure size 504x432 with 2 Axes>",
      "image/png": "[encoded data removed]"
     },
     "metadata": {
      "needs_background": "light"
     },
     "output_type": "display_data"
    },
    {
     "name": "stdout",
     "output_type": "stream",
     "text": [
      "Classification Report\n",
      "              precision    recall  f1-score   support\n",
      "\n",
      "           0       0.95      0.99      0.97       386\n",
      "           1       0.99      0.92      0.96       397\n",
      "           2       0.95      1.00      0.98       160\n",
      "           3       1.00      1.00      1.00       463\n",
      "           4       0.99      1.00      1.00       442\n",
      "           5       1.00      1.00      1.00       745\n",
      "           6       1.00      1.00      1.00       166\n",
      "           7       1.00      0.99      0.99       206\n",
      "\n",
      "    accuracy                           0.99      2965\n",
      "   macro avg       0.99      0.99      0.99      2965\n",
      "weighted avg       0.99      0.99      0.99      2965\n",
      "\n"
     ]
    }
   ],
   "source": [
    "import pandas as pd\n",
    "import seaborn as sns\n",
    "import matplotlib.pyplot as plt\n",
    "from sklearn.metrics import confusion_matrix, classification_report\n",
    "\n",
    "def print_confusion_matrix(y_true, y_pred, report=True):\n",
    "    labels = sorted(list(set(y_true)))\n",
    "    cmx_data = confusion_matrix(y_true, y_pred, labels=labels)\n",
    "    \n",
    "    df_cmx = pd.DataFrame(cmx_data, index=labels, columns=labels)\n",
    " \n",
    "    fig, ax = plt.subplots(figsize=(7, 6))\n",
    "    sns.heatmap(df_cmx, annot=True, fmt='g' ,square=False)\n",
    "    ax.set_ylim(len(set(y_true)), 0)\n",
    "    plt.show()\n",
    "    \n",
    "    if report:\n",
    "        print('Classification Report')\n",
    "        print(classification_report(y_test, y_pred))\n",
    "\n",
    "Y_pred = model.predict(X_test)\n",
    "y_pred = np.argmax(Y_pred, axis=1)\n",
    "\n",
    "print_confusion_matrix(y_test, y_pred)"
   ]
  },
  {
   "cell_type": "markdown",
   "metadata": {
    "pycharm": {
     "name": "#%% md\n"
    }
   },
   "source": [
    "# Convert to model for Tensorflow-Lite"
   ]
  },
  {
   "cell_type": "code",
   "execution_count": 38,
   "metadata": {
    "pycharm": {
     "name": "#%%\n"
    }
   },
   "outputs": [],
   "source": [
    "# Save as a model dedicated to inference\n",
    "model.save(model_save_path, include_optimizer=False)"
   ]
  },
  {
   "cell_type": "code",
   "execution_count": 39,
   "metadata": {
    "pycharm": {
     "name": "#%%\n"
    }
   },
   "outputs": [
    {
     "name": "stdout",
     "output_type": "stream",
     "text": [
      "INFO:tensorflow:Assets written to: C:\\Users\\admin\\AppData\\Local\\Temp\\tmph800d847\\assets\n"
     ]
    },
    {
     "data": {
      "text/plain": "6692"
     },
     "execution_count": 39,
     "metadata": {},
     "output_type": "execute_result"
    }
   ],
   "source": [
    "# Transforming the model (quantization)\n",
    "tflite_save_path = 'model/keypoint_classifier/keypoint_classifier.tflite'\n",
    "\n",
    "converter = tf.lite.TFLiteConverter.from_keras_model(model)\n",
    "converter.optimizations = [tf.lite.Optimize.DEFAULT]\n",
    "tflite_quantized_model = converter.convert()\n",
    "\n",
    "open(tflite_save_path, 'wb').write(tflite_quantized_model)"
   ]
  },
  {
   "cell_type": "markdown",
   "metadata": {
    "pycharm": {
     "name": "#%% md\n"
    }
   },
   "source": [
    "# Inference test"
   ]
  },
  {
   "cell_type": "code",
   "execution_count": 40,
   "metadata": {
    "pycharm": {
     "name": "#%%\n"
    }
   },
   "outputs": [],
   "source": [
    "interpreter = tf.lite.Interpreter(model_path=tflite_save_path)\n",
    "interpreter.allocate_tensors()"
   ]
  },
  {
   "cell_type": "code",
   "execution_count": 41,
   "metadata": {
    "pycharm": {
     "name": "#%%\n"
    }
   },
   "outputs": [],
   "source": [
    "# Get I / O tensor\n",
    "input_details = interpreter.get_input_details()\n",
    "output_details = interpreter.get_output_details()"
   ]
  },
  {
   "cell_type": "code",
   "execution_count": 42,
   "metadata": {
    "pycharm": {
     "name": "#%%\n"
    }
   },
   "outputs": [],
   "source": [
    "interpreter.set_tensor(input_details[0]['index'], np.array([X_test[0]]))"
   ]
  },
  {
   "cell_type": "code",
   "execution_count": 43,
   "metadata": {
    "scrolled": true,
    "pycharm": {
     "name": "#%%\n"
    }
   },
   "outputs": [
    {
     "name": "stdout",
     "output_type": "stream",
     "text": [
      "CPU times: total: 0 ns\n",
      "Wall time: 0 ns\n"
     ]
    }
   ],
   "source": [
    "%%time\n",
    "# Inference implementation\n",
    "interpreter.invoke()\n",
    "tflite_results = interpreter.get_tensor(output_details[0]['index'])"
   ]
  },
  {
   "cell_type": "code",
   "execution_count": 44,
   "metadata": {
    "pycharm": {
     "name": "#%%\n"
    }
   },
   "outputs": [
    {
     "name": "stdout",
     "output_type": "stream",
     "text": [
      "[3.6376095e-03 1.9078387e-02 7.6990016e-36 9.7728401e-01 3.4657662e-36\n",
      " 1.5883990e-26 0.0000000e+00 6.2374020e-31]\n",
      "3\n"
     ]
    }
   ],
   "source": [
    "print(np.squeeze(tflite_results))\n",
    "print(np.argmax(np.squeeze(tflite_results)))"
   ]
  }
 ],
 "metadata": {
  "kernelspec": {
   "display_name": "Python 3 (ipykernel)",
   "language": "python",
   "name": "python3"
  },
  "language_info": {
   "codemirror_mode": {
    "name": "ipython",
    "version": 3
   },
   "file_extension": ".py",
   "mimetype": "text/x-python",
   "name": "python",
   "nbconvert_exporter": "python",
   "pygments_lexer": "ipython3",
   "version": "3.10.4"
  }
 },
 "nbformat": 4,
 "nbformat_minor": 4
}